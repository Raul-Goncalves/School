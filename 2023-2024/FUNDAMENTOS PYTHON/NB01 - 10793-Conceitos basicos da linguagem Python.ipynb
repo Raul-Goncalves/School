{
 "cells": [
  {
   "cell_type": "markdown",
   "metadata": {},
   "source": [
    "<p ><img style=\"float:left\" src=\"logoAEFHP_RP2.png\"></p> "
   ]
  },
  {
   "cell_type": "markdown",
   "metadata": {},
   "source": [
    "<p ><img style=\"float:right\" src=\"Python-Logo2.png\"></p> \n",
    "\n",
    "## <font color=\"DarkSlateBlue\">UFCD 10793 - Fundamentos de Python</font>\n",
    "\n",
    "## <font color=\"MidnightBlue\">Notebook 01 - Conceitos básicos da linguagem Python</font>  \n",
    "### <font color=\"MidnightBlue\">Sílvia Martins</font> \n",
    "### <font color=\"MidnightBlue\">AEFHP - 2022</font> "
   ]
  },
  {
   "cell_type": "markdown",
   "metadata": {},
   "source": [
    "## <font color=\"FireBrick\">A linguagem Python</font> "
   ]
  },
  {
   "cell_type": "markdown",
   "metadata": {},
   "source": [
    "As **palavras reservadas** seguintes constituem uma parte significativa da linguagem Python:"
   ]
  },
  {
   "cell_type": "code",
   "execution_count": null,
   "metadata": {
    "scrolled": false
   },
   "outputs": [],
   "source": [
    "import keyword\n",
    "print(keyword.kwlist)"
   ]
  },
  {
   "cell_type": "markdown",
   "metadata": {},
   "source": [
    "Podes também obter a lista de todos os símbolos em Python a partir da execução da função $\\textit{help()}$:"
   ]
  },
  {
   "cell_type": "markdown",
   "metadata": {
    "scrolled": true
   },
   "source": [
    "help()"
   ]
  },
  {
   "cell_type": "markdown",
   "metadata": {},
   "source": [
    "### Funções embutidas\n",
    "O interpretador do Python possui várias funções e tipos embutidos que sempre estão disponíveis. A lista de todas  as funções embutidas no interpretador Python podem ser acedidas e estudadas em [docd.python.org](https://docs.python.org/pt-br/3/library/functions.html), sendo a função _help()_ uma delas."
   ]
  },
  {
   "cell_type": "markdown",
   "metadata": {},
   "source": [
    "### Bibliotecas padrão  Python  \n",
    "O ambiente Python tem por defeito um conjunto de módulos predefinidos que contém as funções normalmente aplicadas em diferentes domínios, tais como os módulos `math`, `time`, `random`, `string`, entre outras que definem bibliotecas de software e de funções que são aplicadas no desenvolvimento e implementação de programas.  \n",
    "\n",
    "<font color=\"DarkMagenta\">**Exemplos de bibliotecas padrão do Python:**<font>"
   ]
  },
  {
   "cell_type": "code",
   "execution_count": null,
   "metadata": {
    "scrolled": false
   },
   "outputs": [],
   "source": [
    "import os\n",
    "#interação com o sistema operativo (os)\n",
    "\n",
    "import sys\n",
    "#interação com o sistema Python\n",
    "\n",
    "import string\n",
    "#string: biblioteca de funções de manipulação de strings (cadeia de carateres)\n",
    "import math\n",
    "#math:biblioteca de funções matemáticas\n",
    "print(math.sqrt(25))\n",
    "import time\n",
    "?time\n",
    "#time: biblioteca de funções data e hora\n",
    "print(time.asctime())"
   ]
  },
  {
   "cell_type": "markdown",
   "metadata": {},
   "source": [
    "### Utilização de comentários\n",
    "\n",
    "Uma das boas práticas de programação consiste em comentar o que escrevemos por forma a explicitar, para nós e principalmente para os outros, o significado de cada pedaço de código.  \n",
    "Os comentários podem ser usados para tornar o código mais legível ou explicá-lo.  \n",
    "<u>Linhas começadas por</u> **#** <u>são consideradas comentários</u>, e portanto não são avaliadas pelo interpretador.  \n",
    "\n",
    "<font color=\"DarkMagenta\">**Exemplos:**<font>"
   ]
  },
  {
   "cell_type": "code",
   "execution_count": null,
   "metadata": {
    "scrolled": false
   },
   "outputs": [],
   "source": [
    "#isto é um comentário\n",
    "#é também um comentário\n",
    "print(\"Bom ano letivo!\")"
   ]
  },
  {
   "cell_type": "code",
   "execution_count": null,
   "metadata": {
    "scrolled": false
   },
   "outputs": [],
   "source": [
    "\"\"\"para várias linhas podemos usar também aspas triplas \n",
    "para identificar um comentário\"\"\"\n",
    "print(\"Bom ano letivo!\")"
   ]
  },
  {
   "cell_type": "markdown",
   "metadata": {},
   "source": [
    "## <font color=\"MidnightBlue\">Nomes (variáveis), valores e tipos de dados</font>"
   ]
  },
  {
   "cell_type": "markdown",
   "metadata": {},
   "source": [
    "### Nomes em Python\n",
    "Uma <u>nome pode ser curto</u> (como x e y) ou  mais descritivo (nome, idade, num_id). \n",
    "Em Python, um nome é uma qualquer sequência de carateres (sem aspas, não se trata de uma string) que segue as seguintes regras:  \n",
    "* Deve começar com uma letra ou pelo caráter underscore (travessão baixo);  \n",
    "* Não pode começar com um número;  \n",
    "* Pode conter apenas carateres alfanuméricos e underscore (Az, 0-9 e _) ;\n",
    "* São case sensitive (idade e IDADE são  variáveis diferentes)."
   ]
  },
  {
   "cell_type": "markdown",
   "metadata": {},
   "source": [
    "Na terminologia das linguagens de programação é usual chamar variáveis aos nomes. No entanto a linguagem Python dá um uso particular ao mecanismo de associação de valores a nomes que a distingue da maioria das linguagens de programação. \n",
    "Nomes começados por _ são possíveis, mas convenciona-se que têm um significado especial.  \n",
    "Convenciona-se ainda que <u>nomes cujo primeiro carater é uma letra maiúscula são usados para definir classes de objetos</u>.  \n",
    "Para já, <u>usaremos apenas nomes iniciados com uma letra minúscula</u>.\n",
    "\n",
    "Como já visto, há vários nomes reservados, predefinidos na linguagem Python, que não se podem usar."
   ]
  },
  {
   "cell_type": "markdown",
   "metadata": {},
   "source": [
    "## Tipos de valores "
   ]
  },
  {
   "cell_type": "markdown",
   "metadata": {},
   "source": [
    "Em Python, cada valor (objeto) pertence a um determinado tipo (classe). Esse tipo determina quais as operações que podem ser aplicadas a esse valor (objeto). Trata-se de uma linguagem tipada, mas onde os tipos não são explícitos, o que facilita bastante o trabalho do utilizador (apesar de poder trazer outro tipo de problemas, a jusante, na depuração de erros). \n",
    "\n",
    "Os tipos básicos disponíveis mais úteis são:  \n",
    "números inteiros (`int`), números reais (`float`), complexos (`complex`) e valores lógicos (`bool`) que são [tipos imutáveis](https://pt.linuxteaching.com/article/mutable_vs_immutable_objects_in_python#how_do_you_check_if_an_object_is_mutable_in_python).\n",
    "\n",
    "-> Todos os objetos em Python têm o seu próprio `id` exclusivo, sendo-lhe atribuído quando este é criado.\n",
    "-> O id é o endereço de memória do objeto e será diferente a cada execução do programa (exceto para algum objeto que tem um id único constante, como inteiros de -5 a 256).\n",
    "\n",
    "<font color=\"DarkMagenta\">Abaixo exemplos de valores inteiros, reais e complexos: <font> "
   ]
  },
  {
   "cell_type": "markdown",
   "metadata": {},
   "source": [
    "A função <font color=\"DeepPink\"> *type(objeto)* </font>indica o tipo de dados de um determinado objeto"
   ]
  },
  {
   "cell_type": "code",
   "execution_count": null,
   "metadata": {
    "scrolled": false
   },
   "outputs": [],
   "source": [
    "type(3)"
   ]
  },
  {
   "cell_type": "markdown",
   "metadata": {},
   "source": [
    "A função <font color=\"DeepPink\"> *id(objeto)* </font>indica o ID exclusivo para o objeto especificado"
   ]
  },
  {
   "cell_type": "code",
   "execution_count": null,
   "metadata": {
    "scrolled": false
   },
   "outputs": [],
   "source": [
    "id(1)"
   ]
  },
  {
   "cell_type": "code",
   "execution_count": null,
   "metadata": {
    "scrolled": false
   },
   "outputs": [],
   "source": [
    "type(1.0)"
   ]
  },
  {
   "cell_type": "code",
   "execution_count": null,
   "metadata": {
    "scrolled": false
   },
   "outputs": [],
   "source": [
    "id(1.0)"
   ]
  },
  {
   "cell_type": "code",
   "execution_count": null,
   "metadata": {
    "scrolled": false
   },
   "outputs": [],
   "source": [
    "id(1j)"
   ]
  },
  {
   "cell_type": "code",
   "execution_count": null,
   "metadata": {
    "scrolled": false
   },
   "outputs": [],
   "source": [
    "type(1j)"
   ]
  },
  {
   "cell_type": "markdown",
   "metadata": {},
   "source": [
    "Podes conhecer outras funções incorporadas no Python em [W3Schools](https://www.w3schools.com/python/python_ref_functions.asp)  "
   ]
  },
  {
   "cell_type": "markdown",
   "metadata": {},
   "source": [
    "## Operadores e suas prioridades  \n",
    "\n",
    "#### Operadores\n",
    "* Operadores aritméticos:`+`, `-`,`*` , `/`, `//` (divisão inteira), `**` (potênciação) , `%` (resto da divisão inteira) \n",
    "* Operadores lógicos (mais utilizados): `and`(conjunção), `not` (negação), `or` (disjunção)\n",
    "* Operadores relacionais (de comparação), como os da matemática:  `<`, `>`, `<=`, `>=`, `==`, `!=`\n",
    "* Operador de atribuição: `=`, `-=`,`=`, `/=`, `//=`, `%=`, `*=`\n",
    "* Operadores de identidade (servem para a comparação de objetos): `is`, `is not`\n",
    "* Operadores de associação (são utilizados para verificar se uma sequência contém um objeto): `in`, `not in`\n",
    "\n",
    ">**Tarefas:**\n",
    ">* Consulta a lista de operadores e operações com operadores em [W3Schools](https://www.w3schools.com/python/python_operators.asp)\n",
    ">* Deves rever a tabela de verdade para as operações de conjunção, disjunção e negação.\n",
    "\n",
    "#### Prioridade dos Operadores   (da maior para a menor prioridade):  \n",
    "\n",
    "<kbd>()  ->Parêntesis  \n",
    "\n",
    "<kbd>**, not\n",
    "\n",
    "<kbd>\\* ,  /,  %,  //, and\n",
    "\n",
    "<kbd>\\+,  -, or\n",
    "\n",
    "<kbd> \\<=, <, >, >=\n",
    "\n",
    "<kbd>==, !=\n",
    "\n",
    "<kbd>=, %=, /=, //=, -=, +=, *=</kbd>"
   ]
  },
  {
   "cell_type": "markdown",
   "metadata": {},
   "source": [
    "## Expressões numéricas\n",
    "\n",
    "<font color=\"DarkMagenta\">**Exemplos:**<font>"
   ]
  },
  {
   "cell_type": "code",
   "execution_count": null,
   "metadata": {
    "scrolled": false
   },
   "outputs": [],
   "source": [
    "1+1-3"
   ]
  },
  {
   "cell_type": "code",
   "execution_count": null,
   "metadata": {
    "scrolled": false
   },
   "outputs": [],
   "source": [
    "2*(3%5)"
   ]
  },
  {
   "cell_type": "code",
   "execution_count": null,
   "metadata": {
    "scrolled": false
   },
   "outputs": [],
   "source": [
    "7/3*5.9"
   ]
  },
  {
   "cell_type": "code",
   "execution_count": null,
   "metadata": {
    "scrolled": false
   },
   "outputs": [],
   "source": [
    "7//3"
   ]
  },
  {
   "cell_type": "code",
   "execution_count": null,
   "metadata": {
    "scrolled": false
   },
   "outputs": [],
   "source": [
    "10**3"
   ]
  },
  {
   "cell_type": "code",
   "execution_count": null,
   "metadata": {
    "scrolled": false
   },
   "outputs": [],
   "source": [
    "abs(-1)*max(1,2,3)+min(1,2,3)+round(2.6)"
   ]
  },
  {
   "cell_type": "code",
   "execution_count": null,
   "metadata": {
    "scrolled": true
   },
   "outputs": [],
   "source": [
    "1/3+1/2"
   ]
  },
  {
   "cell_type": "markdown",
   "metadata": {},
   "source": [
    "São exemplos de números reais utilizando a `notação científica`, 4.2e5 (=420000.0) e -6e-8 (=-0.00000006).  \n",
    "A notação científica é utilizada, principalmente, para representar números muito grandes ou muito pequenos.  \n",
    "e corresponde à versão simbólica do nº de Napier e faz parte das funcionalidades para cálculo simbólico, suportadas pela extensão Sympy."
   ]
  },
  {
   "cell_type": "code",
   "execution_count": null,
   "metadata": {
    "scrolled": false
   },
   "outputs": [],
   "source": [
    "from sympy import *"
   ]
  },
  {
   "cell_type": "markdown",
   "metadata": {},
   "source": [
    "e+E"
   ]
  },
  {
   "cell_type": "code",
   "execution_count": null,
   "metadata": {
    "scrolled": false
   },
   "outputs": [],
   "source": [
    "200000000000000000000000000000000000.0*2  # 4e+35"
   ]
  },
  {
   "cell_type": "code",
   "execution_count": null,
   "metadata": {
    "scrolled": false
   },
   "outputs": [],
   "source": [
    ".00000000000000000001 # 1e-20"
   ]
  },
  {
   "cell_type": "markdown",
   "metadata": {},
   "source": [
    "### Nomes e atribuição\n",
    "É possível, frequente e desejável, associar nomes a valores (objetos), por forma a memorizá-los e ter um mecanismo simples para os referir. \n",
    "O mecanismo de associação de um nome a um valor é conhecido por atribuição. \n",
    "\n",
    "<font color=\"DarkMagenta\">**Exemplos:**<font>"
   ]
  },
  {
   "cell_type": "code",
   "execution_count": null,
   "metadata": {
    "scrolled": false
   },
   "outputs": [],
   "source": [
    "and=3"
   ]
  },
  {
   "cell_type": "code",
   "execution_count": null,
   "metadata": {
    "scrolled": false
   },
   "outputs": [],
   "source": [
    "a=5"
   ]
  },
  {
   "cell_type": "code",
   "execution_count": null,
   "metadata": {
    "scrolled": false
   },
   "outputs": [],
   "source": [
    "a+a**2 #o mesmo que print(a+a**2)"
   ]
  },
  {
   "cell_type": "code",
   "execution_count": null,
   "metadata": {
    "scrolled": false
   },
   "outputs": [],
   "source": [
    "b=a"
   ]
  },
  {
   "cell_type": "code",
   "execution_count": null,
   "metadata": {
    "scrolled": false
   },
   "outputs": [],
   "source": [
    "b # o mesmo que print(b)"
   ]
  },
  {
   "cell_type": "code",
   "execution_count": null,
   "metadata": {
    "scrolled": false
   },
   "outputs": [],
   "source": [
    "a=a+1"
   ]
  },
  {
   "cell_type": "markdown",
   "metadata": {},
   "source": [
    "O objeto que representa o valor 5 vai sempre representar o valor 5. A atribuição a=a+1 associa então ao nome ao objeto que corresponde a avaliar 5+1, que representa o valor 6. No entanto, o objeto associado a b não é alterado, mantendo-se o valor 5."
   ]
  },
  {
   "cell_type": "code",
   "execution_count": null,
   "metadata": {
    "scrolled": false
   },
   "outputs": [],
   "source": [
    "a"
   ]
  },
  {
   "cell_type": "code",
   "execution_count": null,
   "metadata": {
    "scrolled": false
   },
   "outputs": [],
   "source": [
    "b"
   ]
  },
  {
   "cell_type": "code",
   "execution_count": null,
   "metadata": {
    "scrolled": false
   },
   "outputs": [],
   "source": [
    "frutas = [\"banana\",\"laranja\",\"uva\",\"ameixa\"] # lista de objetos\n",
    "\n",
    "fruta_1 = \"ameixa\"\n",
    "fruta_2 = \"melancia\"\n",
    "\n",
    "print(fruta_1 in frutas) # True\n",
    "print(fruta_2 in frutas) # False"
   ]
  },
  {
   "cell_type": "code",
   "execution_count": null,
   "metadata": {
    "scrolled": true
   },
   "outputs": [],
   "source": [
    "import math\n",
    "val=math.pi\n",
    "math.cos(val)"
   ]
  },
  {
   "cell_type": "markdown",
   "metadata": {},
   "source": [
    "Muitos valores para múltiplas variáveis:"
   ]
  },
  {
   "cell_type": "code",
   "execution_count": null,
   "metadata": {
    "scrolled": false
   },
   "outputs": [],
   "source": [
    "x, y, z = \"Laranja\", \"Banana\", \"Cereja\"\n",
    "print(x)\n",
    "print(y)\n",
    "print(z)\n",
    "print(x, \"\", y,\" \", z)"
   ]
  },
  {
   "cell_type": "markdown",
   "metadata": {},
   "source": [
    "Múltiplas variáveis com o mesmo valor:"
   ]
  },
  {
   "cell_type": "code",
   "execution_count": null,
   "metadata": {
    "scrolled": false
   },
   "outputs": [],
   "source": [
    "x = y = z = \"Banana\"\n",
    "print(x)\n",
    "print(y)\n",
    "print(z)"
   ]
  },
  {
   "cell_type": "markdown",
   "metadata": {},
   "source": [
    "### Tipo $\\textit{bool}$\n",
    "O tipo bool (booleano ou lógico) disponibiliza as constantes _`True`_ e _`False_.  \n",
    "\n",
    "<font color=\"DarkMagenta\">**Exemplos da sua utilização abaixo:**<font>"
   ]
  },
  {
   "cell_type": "code",
   "execution_count": null,
   "metadata": {
    "scrolled": false
   },
   "outputs": [],
   "source": [
    "(1==1)"
   ]
  },
  {
   "cell_type": "code",
   "execution_count": null,
   "metadata": {
    "scrolled": false
   },
   "outputs": [],
   "source": [
    "type(1==1)"
   ]
  },
  {
   "cell_type": "code",
   "execution_count": null,
   "metadata": {
    "scrolled": false
   },
   "outputs": [],
   "source": [
    "1!=3 and (3<1 or (not 0==1))"
   ]
  },
  {
   "cell_type": "code",
   "execution_count": null,
   "metadata": {
    "scrolled": false
   },
   "outputs": [],
   "source": [
    "2 == 1+1"
   ]
  },
  {
   "cell_type": "code",
   "execution_count": null,
   "metadata": {
    "scrolled": false
   },
   "outputs": [],
   "source": [
    "2==2.0"
   ]
  },
  {
   "cell_type": "markdown",
   "metadata": {},
   "source": [
    "Os operadores lógicos `is` e `is not` comparam os identificadores dos objetos em causa: "
   ]
  },
  {
   "cell_type": "code",
   "execution_count": null,
   "metadata": {
    "scrolled": false
   },
   "outputs": [],
   "source": [
    "carlos=1\n",
    "luciano=carlos\n",
    "if carlos is luciano:\n",
    "    print(\"carlos - luciano = mesmo objeto\")\n",
    "else:\n",
    "    print(\"carlos - luciano = objetos diferentes\")"
   ]
  },
  {
   "cell_type": "code",
   "execution_count": null,
   "metadata": {
    "scrolled": false
   },
   "outputs": [],
   "source": [
    "2 is 3 # id(2)==id(3)"
   ]
  },
  {
   "cell_type": "markdown",
   "metadata": {},
   "source": [
    "#### Diferença entre os operadores `is` e `==`\n",
    "`==` é para igualdade de valor. É usado para saber se dois objetos têm o mesmo valor.\n",
    "`is` é para igualdade de referência. Determina se dois objetos são idênticos, isto é,  se têm o mesmo endereço de memória.\n",
    "\n",
    "\n",
    "A declaração `is`, aplicada aos objetos **a** e **b** é equivalente a: `id(a) == id(b)`\n",
    "\n",
    "<font color=\"DarkMagenta\">**Exemplo, onde podemos observar a diferença descrita acima:**<font>"
   ]
  },
  {
   "cell_type": "code",
   "execution_count": null,
   "metadata": {
    "scrolled": false
   },
   "outputs": [],
   "source": [
    "a=[1,2,3]  # isto é uma lista"
   ]
  },
  {
   "cell_type": "code",
   "execution_count": null,
   "metadata": {
    "scrolled": false
   },
   "outputs": [],
   "source": [
    "b=a"
   ]
  },
  {
   "cell_type": "code",
   "execution_count": null,
   "metadata": {
    "scrolled": false
   },
   "outputs": [],
   "source": [
    "c=a[:] # c=[1,2,3] mas não necessáriamente armazenado nos mesmos endereços de memória\n",
    "print(c)\n",
    "id(c)"
   ]
  },
  {
   "cell_type": "code",
   "execution_count": null,
   "metadata": {
    "scrolled": false
   },
   "outputs": [],
   "source": [
    "id(a)"
   ]
  },
  {
   "cell_type": "code",
   "execution_count": null,
   "metadata": {
    "scrolled": false
   },
   "outputs": [],
   "source": [
    "a==b"
   ]
  },
  {
   "cell_type": "code",
   "execution_count": null,
   "metadata": {
    "scrolled": false
   },
   "outputs": [],
   "source": [
    "a==c"
   ]
  },
  {
   "cell_type": "code",
   "execution_count": null,
   "metadata": {
    "scrolled": false
   },
   "outputs": [],
   "source": [
    "a is b"
   ]
  },
  {
   "cell_type": "code",
   "execution_count": null,
   "metadata": {
    "scrolled": false
   },
   "outputs": [],
   "source": [
    "a is c"
   ]
  },
  {
   "cell_type": "markdown",
   "metadata": {},
   "source": [
    "A função `isinstance(objeto, classe)` testa a pertença de um valor (objeto) a um tipo (classe).\n",
    "\n",
    "<font color=\"DarkMagenta\">**Exemplos:**<font>"
   ]
  },
  {
   "cell_type": "code",
   "execution_count": null,
   "metadata": {
    "scrolled": false
   },
   "outputs": [],
   "source": [
    "isinstance(2.0,int)"
   ]
  },
  {
   "cell_type": "code",
   "execution_count": null,
   "metadata": {
    "scrolled": false
   },
   "outputs": [],
   "source": [
    "x = isinstance(6, float)\n",
    "print(x)"
   ]
  },
  {
   "cell_type": "markdown",
   "metadata": {},
   "source": [
    "### Outros tipos de valores\n",
    "Além dos tipos básicos, há também os tipos sequenciais, ou iteráveis: cadeias de carateres (`str`), listas (`list`), vetores (`tuple`), registos (`dictionary`), conjuntos (`set`), e ficheiros (`files`).  \n",
    "Cadeias de carateres, vetores e ficheiros são tipos <u>imutáveis</u> , enquanto que listas, registos e conjuntos são tipos <u>mutáveis</u> (embora possam ser constituidos por tipos imutáveis). É possível ainda introduzir novos tipos, por definição das respetivas classes.\n",
    "\n",
    "Daremos de seguida atenção às cadeias de carateres (deixando os restantes tipos referidos para mais tarde)."
   ]
  },
  {
   "cell_type": "markdown",
   "metadata": {},
   "source": [
    "As cadeias de carateres, ou $\\textit{strings}$, são representadas em Python usando aspas (\") ou plicas ('). Estão disponíveis diversas operações para manipular $\\textit{strings}$.  \n",
    "\n",
    "Plicas simples: 'permitem  \"aspas\", internas'\n",
    "\n",
    "Aspas:   \"permitem 'plicas'  internas\"\n",
    "\n",
    "Plicas triplas: '''Três plicas simples''', \"\"\"Três aspas\"\"\"  \n",
    "\n",
    "<font color=\"DarkMagenta\">**Exemplos:**<font>"
   ]
  },
  {
   "cell_type": "code",
   "execution_count": null,
   "metadata": {
    "scrolled": false
   },
   "outputs": [],
   "source": [
    "type(\"bom\")"
   ]
  },
  {
   "cell_type": "code",
   "execution_count": null,
   "metadata": {
    "scrolled": false
   },
   "outputs": [],
   "source": [
    "\"bom\"+\" \"+\"dia\" #concatena as duas string "
   ]
  },
  {
   "cell_type": "code",
   "execution_count": null,
   "metadata": {
    "scrolled": false
   },
   "outputs": [],
   "source": [
    "\"bom dia\"[0] # obtém o carater que se encontra na posição 0 (o 1.º)"
   ]
  },
  {
   "cell_type": "code",
   "execution_count": null,
   "metadata": {
    "scrolled": false
   },
   "outputs": [],
   "source": [
    "\"bom dia\"[1] # obtém o caráter que se encontra na posição 1 (o 2.º)"
   ]
  },
  {
   "cell_type": "code",
   "execution_count": null,
   "metadata": {
    "scrolled": false
   },
   "outputs": [],
   "source": [
    "\"bom dia\"[-2] # obtém o caráter que se encontra duas posições antes do fim da string (fora da string)"
   ]
  },
  {
   "cell_type": "code",
   "execution_count": null,
   "metadata": {
    "scrolled": false
   },
   "outputs": [],
   "source": [
    "\"bom dia\"[2:5] # obtém os carateres da posição 2 (3.º) à posição 5-1"
   ]
  },
  {
   "cell_type": "code",
   "execution_count": null,
   "metadata": {
    "scrolled": false
   },
   "outputs": [],
   "source": [
    "\"bom dia\"[4:5]"
   ]
  },
  {
   "cell_type": "code",
   "execution_count": null,
   "metadata": {
    "scrolled": true
   },
   "outputs": [],
   "source": [
    "\"bom\"/2"
   ]
  },
  {
   "cell_type": "markdown",
   "metadata": {},
   "source": [
    "As cadeias de carateres podem ainda ser manipuladas recorrendo a métodos específicos, como veremos posteriormente.  "
   ]
  },
  {
   "cell_type": "markdown",
   "metadata": {},
   "source": [
    "### Casting | conversão de tipos\n",
    "O Python disponibiliza também várias funcionalidades que permitem converter valores entre diferentes tipos.\n",
    "\n",
    "<font color=\"DarkMagenta\">**Exemplos:**<font>"
   ]
  },
  {
   "cell_type": "code",
   "execution_count": null,
   "metadata": {
    "scrolled": false
   },
   "outputs": [],
   "source": [
    "print (int(\"523\")+1) #será exibido 524\n",
    "y = int(2.8) # y será 2\n",
    "z = int(\"3\") # z será 3\n",
    "print (y,\"\\t\",z)"
   ]
  },
  {
   "cell_type": "code",
   "execution_count": null,
   "metadata": {
    "scrolled": false
   },
   "outputs": [],
   "source": [
    "int(2.9)"
   ]
  },
  {
   "cell_type": "code",
   "execution_count": null,
   "metadata": {
    "scrolled": false
   },
   "outputs": [],
   "source": [
    "float(2)"
   ]
  },
  {
   "cell_type": "code",
   "execution_count": null,
   "metadata": {
    "scrolled": false
   },
   "outputs": [],
   "source": [
    "\"depois de \"+str(123)+\" vem \"+str(124)"
   ]
  },
  {
   "cell_type": "code",
   "execution_count": null,
   "metadata": {
    "scrolled": false
   },
   "outputs": [],
   "source": [
    "chr(123) # \"123\""
   ]
  },
  {
   "cell_type": "code",
   "execution_count": null,
   "metadata": {
    "scrolled": false
   },
   "outputs": [],
   "source": [
    "round(3.6)"
   ]
  },
  {
   "cell_type": "code",
   "execution_count": null,
   "metadata": {
    "scrolled": false
   },
   "outputs": [],
   "source": [
    "round(3.2)"
   ]
  },
  {
   "cell_type": "code",
   "execution_count": null,
   "metadata": {
    "scrolled": false
   },
   "outputs": [],
   "source": [
    "bool(\"\") #false"
   ]
  },
  {
   "cell_type": "code",
   "execution_count": null,
   "metadata": {
    "scrolled": false
   },
   "outputs": [],
   "source": [
    "bool(\"abc\") #true"
   ]
  },
  {
   "cell_type": "code",
   "execution_count": null,
   "metadata": {},
   "outputs": [],
   "source": [
    "bool(0)"
   ]
  },
  {
   "cell_type": "code",
   "execution_count": null,
   "metadata": {
    "scrolled": true
   },
   "outputs": [],
   "source": [
    "str(4.78)"
   ]
  },
  {
   "cell_type": "code",
   "execution_count": null,
   "metadata": {
    "scrolled": true
   },
   "outputs": [],
   "source": [
    "float(\"4.78\")"
   ]
  },
  {
   "cell_type": "markdown",
   "metadata": {},
   "source": [
    "### Expressões alternativas"
   ]
  },
  {
   "cell_type": "markdown",
   "metadata": {},
   "source": [
    "Uma forma  útil de construir expressões, é a composição alternativa.  \n",
    "<font color=\"DarkMagenta\">**Exemplos:**<font>"
   ]
  },
  {
   "cell_type": "code",
   "execution_count": null,
   "metadata": {
    "scrolled": false
   },
   "outputs": [],
   "source": [
    "2 if 1==1 else 3"
   ]
  },
  {
   "cell_type": "code",
   "execution_count": null,
   "metadata": {
    "scrolled": false
   },
   "outputs": [],
   "source": [
    "2 if 1==2 else 3 if 1==1 else 4"
   ]
  },
  {
   "cell_type": "markdown",
   "metadata": {},
   "source": [
    "Reforça-se que os operadores de atribuição (`=`) e de comparação (`==`) são distintos, e têm papéis muito diferentes, pelo que não devem ser confundidos."
   ]
  },
  {
   "cell_type": "markdown",
   "metadata": {},
   "source": [
    "### Instruções de leitura e escrita (_input/output_)"
   ]
  },
  {
   "cell_type": "markdown",
   "metadata": {},
   "source": [
    "Os mecanismos de leitura e escrita de dados  (*input/output*) são fundamentais para a interação entre os nossos programas e os seus utilizadores. A leitura de dados é feita usando a função `input`,  e a saída de dados, como já vimos, é feita usando a função `print`. <u>Ambas as funções têm por valor uma cadeia de carateres</u>.\n",
    "\n",
    "<font color=\"DarkMagenta\">**Exemplos:**<font>"
   ]
  },
  {
   "cell_type": "code",
   "execution_count": null,
   "metadata": {
    "scrolled": false
   },
   "outputs": [],
   "source": [
    "input(\"valor? \")"
   ]
  },
  {
   "cell_type": "code",
   "execution_count": null,
   "metadata": {
    "scrolled": false
   },
   "outputs": [],
   "source": [
    "int(input(\"valor? \"))+1"
   ]
  },
  {
   "cell_type": "code",
   "execution_count": null,
   "metadata": {
    "scrolled": true
   },
   "outputs": [],
   "source": [
    "int(input(\"valor? \"))+1\n"
   ]
  },
  {
   "cell_type": "code",
   "execution_count": null,
   "metadata": {
    "scrolled": false
   },
   "outputs": [],
   "source": [
    "v=input(\"valor? \")"
   ]
  },
  {
   "cell_type": "code",
   "execution_count": null,
   "metadata": {
    "scrolled": false
   },
   "outputs": [],
   "source": [
    "print(\"valor =\",v,\", quadrado =\",int(v)**2)"
   ]
  },
  {
   "cell_type": "markdown",
   "metadata": {},
   "source": [
    "Como o valor da função input é uma string, como podemos avaliar o tipo de valores lidos? Recorre-se à função embutida $\\textit{eval}$ !  \n",
    "A função $\\textit{eval}$ recebe uma string e devolve o resultado da avaliação dessa string como sendo uma expressão.  \n",
    "Assim, podemos dispensar a conversão para o tipo pretendido, usando o casting, fazendo uso da função $\\textit{eval}$, que evitará erros na avaliação de strings, que representam valores numéricos, inseridas pelo utilizador."
   ]
  },
  {
   "cell_type": "code",
   "execution_count": null,
   "metadata": {
    "scrolled": true
   },
   "outputs": [],
   "source": [
    "eval('3+8')"
   ]
  },
  {
   "cell_type": "code",
   "execution_count": null,
   "metadata": {
    "scrolled": true
   },
   "outputs": [],
   "source": [
    "eval('5 * 3.2 + 1')"
   ]
  },
  {
   "cell_type": "code",
   "execution_count": null,
   "metadata": {
    "scrolled": true
   },
   "outputs": [],
   "source": [
    "eval('a função eval')"
   ]
  },
  {
   "cell_type": "markdown",
   "metadata": {},
   "source": [
    "Combinando a função de avaliação eval com a função input podemos obter o seguinte resultado:"
   ]
  },
  {
   "cell_type": "code",
   "execution_count": null,
   "metadata": {
    "scrolled": true
   },
   "outputs": [],
   "source": [
    "eval(input('insira um número: '))"
   ]
  },
  {
   "cell_type": "markdown",
   "metadata": {},
   "source": [
    "**Carateres de escape e seu significado:**  \n",
    "\n",
    "`\\\\` Barra ao contrário (\\)  \n",
    "`\\'` Plica (')  \n",
    "`\\\"` Aspas (\")  \n",
    "`\\a` Toque de campainha  \n",
    "`\\b` Retrocesso de um espaço  \n",
    "`\\f` Salto de página  \n",
    "`\\n` Salto de linha  \n",
    "`\\r` “Return”  \n",
    "`\\t` Tabulação horizontal  \n",
    "`\\v` Tabulação vertical"
   ]
  },
  {
   "cell_type": "code",
   "execution_count": null,
   "metadata": {
    "scrolled": true
   },
   "outputs": [],
   "source": [
    "\n",
    "v=input(\"Insira um número\\n-> \")"
   ]
  },
  {
   "cell_type": "code",
   "execution_count": null,
   "metadata": {
    "scrolled": false
   },
   "outputs": [],
   "source": [
    "print(\"valor =\",v,\"\\tquadrado =\",int(v)**2)"
   ]
  },
  {
   "cell_type": "markdown",
   "metadata": {},
   "source": [
    "Pode-se formatar o resultado de um comando print de formas mais sofisticadas, usando o método <font color=\"DeepPink\">format<font>."
   ]
  },
  {
   "cell_type": "code",
   "execution_count": null,
   "metadata": {
    "scrolled": false
   },
   "outputs": [],
   "source": [
    "\"conseguir fazer {} dos {} exercícios do teste\".format(3,5)"
   ]
  },
  {
   "cell_type": "code",
   "execution_count": null,
   "metadata": {},
   "outputs": [],
   "source": [
    "\"conseguir fazer \"+ \"3\"+ \" dos \"+\"5\"+\" exercícios do teste\""
   ]
  },
  {
   "cell_type": "code",
   "execution_count": null,
   "metadata": {},
   "outputs": [],
   "source": [
    "help('FORMATTING')"
   ]
  },
  {
   "cell_type": "markdown",
   "metadata": {},
   "source": [
    "### Estrutura de controlo sequencial"
   ]
  },
  {
   "cell_type": "markdown",
   "metadata": {},
   "source": [
    "O mais simples dos mecanismos de composição de instruções é a denominada *sequenciação*. Consiste, essencialmente, na execução consecutiva de várias instruções, na ordem especificada no programa.  \n",
    "\n",
    "<font color=\"DarkMagenta\">**Exemplos:**<font>"
   ]
  },
  {
   "cell_type": "code",
   "execution_count": null,
   "metadata": {
    "scrolled": false
   },
   "outputs": [],
   "source": [
    "x=5;y=x+1;media=(x+y)/2;print(\"A média é: \", media)"
   ]
  },
  {
   "cell_type": "markdown",
   "metadata": {},
   "source": [
    " _**(;)**_ termina a execução sequencial das várias atribuições, da esquerda para a direita. Apesar de suportada, e muito comum noutros ambientes, esta sintaxe é altamente desaconselhada em Python, por razões que promovem a legibilidade do código, bem como os princípios essenciais da programação estruturada. Deve-se, portanto,  <u>expressar a sequência das instruções com a mudança de linha</u>."
   ]
  },
  {
   "cell_type": "code",
   "execution_count": null,
   "metadata": {
    "scrolled": false
   },
   "outputs": [],
   "source": [
    "x=5\n",
    "y=x+1\n",
    "media=(x+y)/2\n",
    "print(\"A média é: \", media)"
   ]
  },
  {
   "cell_type": "markdown",
   "metadata": {},
   "source": [
    "-------------------------------------------------------------------------------------------------------------------------------"
   ]
  },
  {
   "cell_type": "markdown",
   "metadata": {},
   "source": [
    "### Bibliografia\n",
    "\n",
    "Caleiro.C., Ramos.J.(2016). Notebook 01 - Conceitos básicos da linguagem Python  Dep. Matemática -IST.Lisboa:IST  \n",
    "https://www.w3schools.com/python/default.asp  \n",
    "Vasconcelos, J. (2015).Python - Algoritmia e Programação Web. Lisboa:FCA  \n",
    "Martins. J. (2012). Programação em Python:Introdução à Programação utilizando Múltiplos Paradigmas.Lisboa:Departamento de Engenharia Informática-IST  \n",
    "https://algoritmosempython.com.br/cursos/programacao-python/operadores/  \n",
    "https://www.devmedia.com.br/operadores-no-python/40693  \n",
    "https://towardsdatascience.com/whats-the-difference-between-is-and-in-python-dc26406c85ad  \n",
    "https://docs.python.org/pt-br/3/contents.html  \n",
    "https://docs.python.org/pt-br/3/library/time.html#time.struct_time  \n",
    "Martins. M.(2021), Ficha de Trabalho 13 -UFCD 0809 Programação em C/C++ - fundamentos.Covilhã:AEFHP\n"
   ]
  },
  {
   "cell_type": "markdown",
   "metadata": {},
   "source": [
    "\n",
    "<p ><img style=\"float:left\" src=\"logo-poch2.png\"></p> "
   ]
  },
  {
   "cell_type": "markdown",
   "metadata": {},
   "source": [
    "<p ><img style=\"float:left\" src=\"by_nc_nd.png\"></p> "
   ]
  }
 ],
 "metadata": {
  "anaconda-cloud": {},
  "kernelspec": {
   "display_name": "Python 3 (ipykernel)",
   "language": "python",
   "name": "python3"
  },
  "language_info": {
   "codemirror_mode": {
    "name": "ipython",
    "version": 3
   },
   "file_extension": ".py",
   "mimetype": "text/x-python",
   "name": "python",
   "nbconvert_exporter": "python",
   "pygments_lexer": "ipython3",
   "version": "3.9.7"
  },
  "vscode": {
   "interpreter": {
    "hash": "3d8d460888bd2592ca068515d6439bbadee2a0bfc804e19ac0b38bfa4af06fcf"
   }
  }
 },
 "nbformat": 4,
 "nbformat_minor": 1
}
