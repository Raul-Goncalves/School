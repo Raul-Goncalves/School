{
 "cells": [
  {
   "cell_type": "code",
   "execution_count": 1,
   "id": "778f278c",
   "metadata": {},
   "outputs": [
    {
     "name": "stdout",
     "output_type": "stream",
     "text": [
      "Olá Mundo\n"
     ]
    }
   ],
   "source": [
    "print (\"Olá Mundo\")"
   ]
  },
  {
   "cell_type": "markdown",
   "id": "c5deaa59",
   "metadata": {},
   "source": [
    "## Isto é um título de nível 2\n",
    "Este é um texto simples que forma um parágrafo. Adicione ênfase por meio de **negrito** e __bold__, ou *itálico* e\n",
    "_itálico_.\n",
    "Os parágrafos devem ser separados por uma linha em branco.\n",
    "* Às vezes queremos incluir listas.\n",
    "* Que pode ser marcado com asteriscos.\n",
    "1. As listas também podem ser numeradas.\n",
    "2. Se queremos uma lista ordenada.\n",
    "[É possível incluir hiperlinks](https://www.aefhp.pt)\n",
    "O código embutido usa acentos graves únicos: foo(), e os blocos de código usam acentos graves triplos:\n",
    "```\n",
    "bar()\n",
    "```\n",
    "Ou pode ser recuado/endentado por 4 espaços:\n",
    "foo()\n",
    "E, finalmente, é fácil adicionar imagens: ![Alt text]( http://aefhp.pt/templates/hot_coffeine/images/LOGOAEFHP.png)\n",
    "Vê como este Markdown ficaria, assim que fosse executada a célula:"
   ]
  },
  {
   "cell_type": "code",
   "execution_count": null,
   "id": "032f6516",
   "metadata": {},
   "outputs": [],
   "source": []
  }
 ],
 "metadata": {
  "kernelspec": {
   "display_name": "Python 3 (ipykernel)",
   "language": "python",
   "name": "python3"
  },
  "language_info": {
   "codemirror_mode": {
    "name": "ipython",
    "version": 3
   },
   "file_extension": ".py",
   "mimetype": "text/x-python",
   "name": "python",
   "nbconvert_exporter": "python",
   "pygments_lexer": "ipython3",
   "version": "3.9.12"
  }
 },
 "nbformat": 4,
 "nbformat_minor": 5
}
