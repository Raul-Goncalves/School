{
 "cells": [
  {
   "cell_type": "markdown",
   "metadata": {},
   "source": [
    "<p ><img style=\"float:left\" src=\"logoAEFHP_RP2.png\"></p> "
   ]
  },
  {
   "cell_type": "markdown",
   "metadata": {},
   "source": [
    "## <p ><img style=\"float:right\" src=\"Python-Logo2.png\"></p> \n",
    "# <font color=\"DarkSlateBlue\">UFCD 10793 - Fundamentos de Python</font>\n",
    "## <font color=\"MidnightBlue\">Notebook 03 - Estruturas em Python</font> "
   ]
  },
  {
   "cell_type": "markdown",
   "metadata": {},
   "source": [
    "### <font color=\"FireBrick\"> Estrutura de controlo condicional</font>  \n",
    "\n",
    "Este mecanismo de composição condicional representa genéricamente, um teste de condição lógica no qual é executado um conjunto de instruções, consoante a condição especificada seja verdadeira ou falsa. \n"
   ]
  },
  {
   "cell_type": "markdown",
   "metadata": {},
   "source": [
    "### Estrutura de decisão if...then...else\n",
    "Esta estrutura representa um teste de condição lógica no qual é executado um conjunto de instruções, consoante a condição especificada seja verdadeira ou falsa.  \n",
    "A instrução if pode ter um conjunto de instruções devidamente endentadas, de modo a definir um conjunto mais extenso de estruturas condicionais (if aninhados).  \n",
    "\n",
    "<font color=\"Teal\">**Sintaxe:**</font>  \n",
    "`if <condicao>: `   \n",
    "    instrucões  \n",
    "`elif <condicao>:  `\n",
    "    instrucões ...]  \n",
    "`[else:  `\n",
    "    instrucões] \n",
    "    \n",
    "<font color=\"DarkMagenta\">**Exemplos:**<font>"
   ]
  },
  {
   "cell_type": "markdown",
   "metadata": {},
   "source": [
    "Escrita de if...else dentro de outra função, neste caso print:"
   ]
  },
  {
   "cell_type": "code",
   "execution_count": 1,
   "metadata": {},
   "outputs": [
    {
     "name": "stdout",
     "output_type": "stream",
     "text": [
      "Não podes ir votar!!!\n"
     ]
    }
   ],
   "source": [
    "idade = 12\n",
    "print(\"Tens idade para votar!\"if idade >= 18 else \"Não podes ir votar!!!\")"
   ]
  },
  {
   "cell_type": "code",
   "execution_count": 2,
   "metadata": {},
   "outputs": [
    {
     "name": "stdout",
     "output_type": "stream",
     "text": [
      "Tens idade para votar!\n"
     ]
    }
   ],
   "source": [
    "idade = 19\n",
    "if idade >= 18:\n",
    "    print(\"Tens idade para votar!\")"
   ]
  },
  {
   "cell_type": "code",
   "execution_count": 3,
   "metadata": {},
   "outputs": [
    {
     "name": "stdout",
     "output_type": "stream",
     "text": [
      "Tens idade para votar!\n",
      "Já foste votar?\n"
     ]
    }
   ],
   "source": [
    "idade = 19\n",
    "if idade >= 18:\n",
    "    print(\"Tens idade para votar!\")\n",
    "    print(\"Já foste votar?\")"
   ]
  },
  {
   "cell_type": "code",
   "execution_count": 4,
   "metadata": {},
   "outputs": [
    {
     "name": "stdout",
     "output_type": "stream",
     "text": [
      "Insere um nº inteiro: 5\n",
      "Número positivo\n"
     ]
    }
   ],
   "source": [
    "#leitura de um número inteiro\n",
    "num= int(input(\"Insere um nº inteiro: \"))\n",
    "#estrutura condicional if...then...else\n",
    "if num < 0:\n",
    "    print(\"Número negativo\")\n",
    "elif num==0:   # elif para else if\n",
    "    print(\"Número zero\")\n",
    "else:\n",
    "    print(\"Número positivo\")"
   ]
  },
  {
   "cell_type": "code",
   "execution_count": 5,
   "metadata": {},
   "outputs": [
    {
     "data": {
      "text/plain": [
       "25"
      ]
     },
     "execution_count": 5,
     "metadata": {},
     "output_type": "execute_result"
    }
   ],
   "source": [
    "idade = 12\n",
    "if idade < 4:\n",
    "    paga = 0\n",
    "elif idade < 18:\n",
    "    paga = 25\n",
    "elif idade < 65:\n",
    "    paga = 40\n",
    "elif idade >= 65:\n",
    "    paga = 20\n",
    "paga"
   ]
  },
  {
   "cell_type": "code",
   "execution_count": 6,
   "metadata": {},
   "outputs": [
    {
     "data": {
      "text/plain": [
       "4"
      ]
     },
     "execution_count": 6,
     "metadata": {},
     "output_type": "execute_result"
    }
   ],
   "source": [
    "x=2\n",
    "\n",
    "if x<3:\n",
    "    x=x*2\n",
    "elif x<5:\n",
    "    x=x+1\n",
    "    x=x**2\n",
    "elif x<10:\n",
    "    x=x+1\n",
    "else: x=0\n",
    "    \n",
    "x"
   ]
  },
  {
   "cell_type": "markdown",
   "metadata": {},
   "source": [
    "ATENÇÃO: A Indentação (alinhamento dos comandos) é fundamental. Caso as condições não sejam exaustivas e seja omitida a hipótese final (else) não é executada nenhuma instrução (ou é executada a instrução que nada faz, que é designada em Python por pass)."
   ]
  },
  {
   "cell_type": "code",
   "execution_count": 7,
   "metadata": {},
   "outputs": [
    {
     "data": {
      "text/plain": [
       "100"
      ]
     },
     "execution_count": 7,
     "metadata": {},
     "output_type": "execute_result"
    }
   ],
   "source": [
    "x=100\n",
    "\n",
    "if x<50:\n",
    "    x=x+1\n",
    "\n",
    "x"
   ]
  },
  {
   "cell_type": "markdown",
   "metadata": {},
   "source": [
    "### Estrutura de escolha múltipla\n",
    "Estas estruturas permitem escolher um conjunto de instruções entre vários alternativos, mutuamente exclusivos. mediante a avaliação de de um teste lógico.\n",
    "Em Python, algumas estruturas de escolha múltipla podem ser elegantemente implementadas com recurso a `dicionários` que são estruturas de dados com pares `<chave: valor>`, sendo que as chaves são única.  \n",
    "<font color=\"Teal\">**Sintaxe:**</font>  \n",
    "```D={\n",
    "Chave1: valor1,\n",
    "Chave2: valor2,\n",
    "...\n",
    "ChaveN: valorN\n",
    "}```  \n",
    "    \n",
    "<font color=\"DarkMagenta\">**Exemplos:**<font>"
   ]
  },
  {
   "cell_type": "code",
   "execution_count": 8,
   "metadata": {},
   "outputs": [
    {
     "name": "stdout",
     "output_type": "stream",
     "text": [
      "Insira a opção(A, B ou C: B\n",
      "O valor a receber é:  900\n"
     ]
    },
    {
     "data": {
      "text/plain": [
       "'método get: Obtém o conteúdo de chave. Não causa erro caso a chave não exista:retorna valor. \\nSe o valor não for especificado, chaves inexistentes retornam  None.\\n'"
      ]
     },
     "execution_count": 8,
     "metadata": {},
     "output_type": "execute_result"
    }
   ],
   "source": [
    "escalao=input(\"Insira a opção(A, B ou C: \")\n",
    "op={\n",
    "    \"A\":1000,\n",
    "    \"B\":900,\n",
    "    \"C\":850,\n",
    "    }\n",
    "print(\"O valor a receber é: \",op.get(escalao))  \n",
    "\n",
    "\"\"\"método get: Obtém o conteúdo de chave. Não causa erro caso a chave não exista:retorna valor. \n",
    "Se o valor não for especificado, chaves inexistentes retornam  None.\n",
    "\"\"\"  \n"
   ]
  },
  {
   "cell_type": "code",
   "execution_count": 9,
   "metadata": {},
   "outputs": [
    {
     "name": "stdout",
     "output_type": "stream",
     "text": [
      "Insira a opção(A, B ou C): D\n",
      "Opção não encontrada\n",
      "Opção D : 0.00€\n"
     ]
    }
   ],
   "source": [
    "escalao=input(\"Insira a opção(A, B ou C): \").upper()\n",
    "op={\n",
    "    \"A\": 1000,\n",
    "    \"B\": 900,\n",
    "    \"C\": 850,\n",
    "    }\n",
    "print(op.get(escalao,'Opção não encontrada')) \n",
    "print(f\"Opção {escalao:2}: {op.get(escalao,0):4.2f}€\") "
   ]
  },
  {
   "cell_type": "markdown",
   "metadata": {},
   "source": [
    "NOTA: Iremos, preferencialmente, usar os if aninhados para problemas de seleção múltipla. Estudaremos os dicionários mais tarde, bem como outros dos seus métodos."
   ]
  },
  {
   "cell_type": "markdown",
   "metadata": {},
   "source": [
    "### <font color=\"FireBrick\"> Estrutura de controlo iterativo</font> \n",
    "As estruturas repetitivas incluem sempre:  \n",
    ">* _Uma instrução de controlo de ciclo_ - que determinará o término do ciclo. Esta instrução contém a indicação explícita do número de vezes que o ciclo será exdecutado, ou uma condição de avaliação que determine a comntinuação ou paragem do ciclo.\n",
    "\n",
    ">* _O corpo do ciclo_ - conjunto de instruções que será repetido sempre que o ciclo for executado ( a cada iteração do ciclo).\n",
    "\n",
    "Em Python a execução repetida das instruções pode ser interrompida pela instrução `break`. Também se pode interromper o ciclo que está a ser executado e forçar a passagem à próxima iteração, recorrendo à instrução `continue`."
   ]
  },
  {
   "cell_type": "markdown",
   "metadata": {},
   "source": [
    "### Iteração usando for\n",
    "Este mecanismo de composição iterativa permite implementar um ciclo para especificar um conjunto repetido de instruções. É usado em conjunto com a função range que permite especificar intervalos de valores e os respetivos incrementos.  \n",
    "\n",
    "O argumento inicio, da função range, pode ser omitido, iniciando-se, nesse caso, o ciclo no valor zero (0) e terminando em N-1, sendo N a variável que lhe está associada.\n",
    "\n",
    "<font color=\"Teal\">**Sintaxe:**</font>  \n",
    "```for <variavel_contador> in range(inicio, fim[, step]): \n",
    "    instrucões do corpo do ciclo```  \n",
    "    \n",
    "Executa a instrução range? para veres como usar a função  \n",
    "\n",
    "<font color=\"DarkMagenta\">**Exemplos:**<font>"
   ]
  },
  {
   "cell_type": "code",
   "execution_count": 10,
   "metadata": {
    "scrolled": true
   },
   "outputs": [
    {
     "name": "stdout",
     "output_type": "stream",
     "text": [
      "Eu gosto de Python!\n",
      "Eu gosto de Python!\n",
      "Eu gosto de Python!\n"
     ]
    }
   ],
   "source": [
    "msg=\"Eu gosto de Python!\"\n",
    "for i in range(3):\n",
    "    print (msg)"
   ]
  },
  {
   "cell_type": "code",
   "execution_count": 11,
   "metadata": {},
   "outputs": [
    {
     "name": "stdout",
     "output_type": "stream",
     "text": [
      "Inserir um número inteiro ->4\n",
      "0\n",
      "1\n",
      "2\n",
      "3\n"
     ]
    }
   ],
   "source": [
    "n=int(input(\"Inserir um número inteiro ->\"))\n",
    "for indice in range(n):\n",
    "    print(indice)"
   ]
  },
  {
   "cell_type": "code",
   "execution_count": 12,
   "metadata": {},
   "outputs": [
    {
     "name": "stdout",
     "output_type": "stream",
     "text": [
      "Inserir um número inteiro ->3\n",
      "-5\n",
      "-2\n",
      "1\n",
      "4\n"
     ]
    }
   ],
   "source": [
    "n=int(input(\"Inserir um número inteiro ->\"))\n",
    "for indice in range(-5,5,n): # o ciclo irá iniciar no valor -5 e ser incrementado de n em n valores até atingir o valor 5-1\n",
    "    print(indice)"
   ]
  },
  {
   "cell_type": "code",
   "execution_count": 14,
   "metadata": {},
   "outputs": [
    {
     "name": "stdout",
     "output_type": "stream",
     "text": [
      "Inserir um número ->4\n",
      "Total:   6\n"
     ]
    }
   ],
   "source": [
    "soma=0\n",
    "n=int(input(\"Inserir um número ->\"))\n",
    "for i in range(n):\n",
    "    soma=soma+i\n",
    "print(f\"Total: {soma:3d}\")"
   ]
  },
  {
   "cell_type": "markdown",
   "metadata": {},
   "source": [
    "### Iteração usando while\n",
    "Este mecanismo de composição iterativa permite implementar um ciclo, que é repetido enquanto determinada ncondição for verdadeira.\n",
    "\n",
    "<font color=\"Teal\">**Sintaxe:**</font>  \n",
    "```while <condição>: \n",
    "    instrucões do corpo do ciclo```  \n",
    "    \n",
    "Esta estrutura tem uma variante en que o corpo do ciclo é repetido indefinidamente, enquanto não for interrompido pela ação do utilizador (por exemplo com `CTRL+C`), quer por satisfação de alguma condição existente no corpo do ciclo ou pela instrução `break`.  \n",
    "\n",
    "<font color=\"Teal\">**Sintaxe:**</font>  \n",
    "```while True: \n",
    "    instrucões do corpo do ciclo```  \n",
    "    \n",
    "<font color=\"DarkMagenta\">**Exemplos:**<font>"
   ]
  },
  {
   "cell_type": "code",
   "execution_count": 15,
   "metadata": {},
   "outputs": [
    {
     "name": "stdout",
     "output_type": "stream",
     "text": [
      "insira um caráter\n",
      "v\n",
      "insira um caráter\n",
      "a\n",
      "Caráter inserido: a\n"
     ]
    }
   ],
   "source": [
    "while True:\n",
    "    a=input(\"insira um caráter\\n\")\n",
    "    if a=='a': \n",
    "        break;\n",
    "print(\"Caráter inserido:\",a) "
   ]
  },
  {
   "cell_type": "code",
   "execution_count": 16,
   "metadata": {},
   "outputs": [
    {
     "name": "stdout",
     "output_type": "stream",
     "text": [
      "insira um caráter\n",
      "d\n",
      "d\n",
      "insira um caráter\n",
      "a\n"
     ]
    }
   ],
   "source": [
    "ativo = True\n",
    "while ativo:\n",
    "    message = input(\"insira um caráter\\n\")\n",
    "    if message == 'a':\n",
    "        ativo = False\n",
    "    else:\n",
    "        print(message)"
   ]
  },
  {
   "cell_type": "code",
   "execution_count": 17,
   "metadata": {},
   "outputs": [
    {
     "name": "stdout",
     "output_type": "stream",
     "text": [
      "1\n",
      "2\n",
      "3\n"
     ]
    }
   ],
   "source": [
    "N = 1\n",
    "while N <= 3:\n",
    "    print(N)\n",
    "    N += 1"
   ]
  },
  {
   "cell_type": "code",
   "execution_count": 18,
   "metadata": {},
   "outputs": [
    {
     "name": "stdout",
     "output_type": "stream",
     "text": [
      "\n",
      "Insira a palavra a repetir (para parar insira 'quit')quit\n",
      "quit\n"
     ]
    }
   ],
   "source": [
    "msg=\"\\nInsira a palavra a repetir (para parar insira 'quit')\"\n",
    "mensagem=\"\"\n",
    "while mensagem!='quit':\n",
    "    mensagem=input(msg)\n",
    "    print(mensagem)"
   ]
  },
  {
   "cell_type": "markdown",
   "metadata": {},
   "source": [
    "#### Ciclos aninhados  "
   ]
  },
  {
   "cell_type": "code",
   "execution_count": 20,
   "metadata": {},
   "outputs": [
    {
     "name": "stdout",
     "output_type": "stream",
     "text": [
      "o x o x o x o \n",
      "x o x o x o x \n",
      "o x o x o x o \n",
      "x o x o x o x \n",
      "o x o x o x o \n",
      "x o x o x o x \n"
     ]
    }
   ],
   "source": [
    "car1, car2, N='x','o',6\n",
    "for i in range(1,N+1):\n",
    "    for j in range(N+1):\n",
    "        if (i+j) %2==0:\n",
    "            print(car1, end=\" \")\n",
    "        else:\n",
    "            print(car2, end=\" \")\n",
    "    print() # mudança de linha após iteração de cada ciclo interno - variação da coluna, imprimindo linha a linha\n",
    "    "
   ]
  },
  {
   "cell_type": "markdown",
   "metadata": {},
   "source": [
    "### <font color=\"FireBrick\">Métodos<font>"
   ]
  },
  {
   "cell_type": "markdown",
   "metadata": {},
   "source": [
    "Cada tipo (classe) de valores (objetos) tem associada uma série de *métodos*. A invocação desses métodos pode dar origem a um valor, bem como resultar em alterações nos objetos em causa, no caso de serem mutáveis.\n",
    "\n",
    "Um método é uma ação que é efetuada num valor de um objeto.\n",
    "\n",
    "Os métodos associados a cada tipo (classe) podem ser usados de duas formas:"
   ]
  },
  {
   "cell_type": "code",
   "execution_count": 21,
   "metadata": {},
   "outputs": [],
   "source": [
    "int.bit_length?"
   ]
  },
  {
   "cell_type": "code",
   "execution_count": 22,
   "metadata": {},
   "outputs": [
    {
     "name": "stdout",
     "output_type": "stream",
     "text": [
      "Help on method_descriptor:\n",
      "\n",
      "bit_length(self, /)\n",
      "    Number of bits necessary to represent self in binary.\n",
      "    \n",
      "    >>> bin(37)\n",
      "    '0b100101'\n",
      "    >>> (37).bit_length()\n",
      "    6\n",
      "\n"
     ]
    }
   ],
   "source": [
    "help(int.bit_length)"
   ]
  },
  {
   "cell_type": "code",
   "execution_count": 23,
   "metadata": {},
   "outputs": [
    {
     "data": {
      "text/plain": [
       "3"
      ]
     },
     "execution_count": 23,
     "metadata": {},
     "output_type": "execute_result"
    }
   ],
   "source": [
    "int.bit_length(7)"
   ]
  },
  {
   "cell_type": "code",
   "execution_count": 24,
   "metadata": {},
   "outputs": [],
   "source": [
    "x=8"
   ]
  },
  {
   "cell_type": "code",
   "execution_count": 25,
   "metadata": {},
   "outputs": [
    {
     "data": {
      "text/plain": [
       "4"
      ]
     },
     "execution_count": 25,
     "metadata": {},
     "output_type": "execute_result"
    }
   ],
   "source": [
    "int.bit_length(x)"
   ]
  },
  {
   "cell_type": "markdown",
   "metadata": {},
   "source": [
    "Os métodos associados a cada valor (objeto) podem ser facilmente consultados usando o mecanismo de introspeção do IPython (completação por TAB a partir do objeto, ou do seu tipo - escrever o nome do objeto, seguido de . e clicar em `TAB`)"
   ]
  },
  {
   "cell_type": "code",
   "execution_count": null,
   "metadata": {},
   "outputs": [],
   "source": [
    "x."
   ]
  },
  {
   "cell_type": "code",
   "execution_count": 28,
   "metadata": {},
   "outputs": [
    {
     "data": {
      "image/png": "[encoded data removed]",
      "text/plain": [
       "<IPython.core.display.Image object>"
      ]
     },
     "execution_count": 28,
     "metadata": {},
     "output_type": "execute_result"
    }
   ],
   "source": [
    "from IPython.display import Image\n",
    "Image(\"tabcomp.png\")"
   ]
  },
  {
   "cell_type": "markdown",
   "metadata": {},
   "source": [
    "Neste caso, trabalhando sobre inteiros, que correspondem a um tipo imutável, a invocação de métodos tem um efeito em tudo semelhante ao do uso de operadores em expressões. Veremos adiante, no contexto de tipos mutáveis, que a situação pode ser um pouco mais complexa."
   ]
  },
  {
   "cell_type": "markdown",
   "metadata": {},
   "source": [
    "Relativamente às cadeias de carateres, ou *strings*, valerá a pena explorar os métodos disponíveis."
   ]
  },
  {
   "cell_type": "code",
   "execution_count": null,
   "metadata": {},
   "outputs": [],
   "source": [
    "str.\n"
   ]
  },
  {
   "cell_type": "code",
   "execution_count": 29,
   "metadata": {},
   "outputs": [
    {
     "data": {
      "image/png": "[encoded data removed]",
      "text/plain": [
       "<IPython.core.display.Image object>"
      ]
     },
     "execution_count": 29,
     "metadata": {},
     "output_type": "execute_result"
    }
   ],
   "source": [
    "Image(\"strmetodos.png\")"
   ]
  },
  {
   "cell_type": "markdown",
   "metadata": {},
   "source": [
    "Outra forma expedita de aceder aos métodos disponíveis de um tipo, ou de um objeto desse tipo, consiste em usar `dir`."
   ]
  },
  {
   "cell_type": "code",
   "execution_count": null,
   "metadata": {},
   "outputs": [],
   "source": [
    "dir(str)"
   ]
  },
  {
   "cell_type": "markdown",
   "metadata": {},
   "source": [
    "###  Alguns métodos do tipo string  \n",
    "Consulta os métodos aqui [docs.Python](https://docs.python.org/pt-br/3/library/stdtypes.html#string-methods) ou em [W3Schools](https://www.w3schools.com/python/python_strings_methods.asp)"
   ]
  },
  {
   "cell_type": "code",
   "execution_count": 31,
   "metadata": {},
   "outputs": [
    {
     "name": "stdout",
     "output_type": "stream",
     "text": [
      "Alda Oliveira\n"
     ]
    }
   ],
   "source": [
    "name = \"Alda Oliveira\"\n",
    "print(name.title())"
   ]
  },
  {
   "cell_type": "code",
   "execution_count": 32,
   "metadata": {},
   "outputs": [
    {
     "name": "stdout",
     "output_type": "stream",
     "text": [
      "ALDA OLIVEIRA\n",
      "alda oliveira\n"
     ]
    }
   ],
   "source": [
    "nome = \"Alda Oliveira\"\n",
    "print(nome.upper())\n",
    "print(nome.lower())\n"
   ]
  },
  {
   "cell_type": "markdown",
   "metadata": {},
   "source": [
    "Usando fstring para a formatação de saída (_f_ de _format_ -substitui o nome de qualquer variável entre `{}` pelo seu valor):"
   ]
  },
  {
   "cell_type": "code",
   "execution_count": 33,
   "metadata": {},
   "outputs": [
    {
     "name": "stdout",
     "output_type": "stream",
     "text": [
      "Alda Oliveira\n",
      "Olá, Alda Oliveira!\n",
      "Alda Oliveira\n"
     ]
    }
   ],
   "source": [
    "nome = \"Alda\"\n",
    "apelido = \"Oliveira\" \n",
    "nome_completo = f\"{nome} {apelido}\"\n",
    "print(nome_completo)\n",
    "menssagem = f\"Olá, {nome_completo.title()}!\"\n",
    "print(menssagem)\n",
    "nome_completo = \"{} {}\".format(nome, apelido)\n",
    "print(nome_completo)"
   ]
  },
  {
   "cell_type": "markdown",
   "metadata": {},
   "source": [
    "Para garantir que nenhum espaço em branco exista na extremidade direita de uma string, usar o método _`rstrip()`_ :\n"
   ]
  },
  {
   "cell_type": "markdown",
   "metadata": {},
   "source": [
    "```favorite_language = 'python  '\n",
    "print(favorite_language)\n",
    "'python  '  \n",
    "favorite_language.rstrip()\n",
    "print(favorite_language)\n",
    "'python'```"
   ]
  },
  {
   "cell_type": "markdown",
   "metadata": {},
   "source": [
    "Para remover o espaço em branco da string permanentemente, deve-se\n",
    "associar o valor removido com o nome da variável:"
   ]
  },
  {
   "cell_type": "markdown",
   "metadata": {},
   "source": [
    "```favorite_language = 'python '\n",
    "favorite_language = favorite_language.rstrip()\n",
    "favorite_language\n",
    "'python'\n",
    "favorite_language = ' python '\n",
    "favorite_language.rstrip()\n",
    "' python'  \n",
    "favorite_language.lstrip()\n",
    "'python '  \n",
    "favorite_language.strip()\n",
    "'python'```"
   ]
  },
  {
   "cell_type": "markdown",
   "metadata": {},
   "source": [
    "Também se podem retirar o(s) espaço(s) em branco dda extremidade esquerda de uma string se usarmos o método \n",
    "_`lstrip()`_ method, ou de ambas as extremidades com o método  _`strip()`_:"
   ]
  },
  {
   "cell_type": "markdown",
   "metadata": {},
   "source": [
    "``` favorite_language = ' python '\n",
    "favorite_language.rstrip()\n",
    "' python'\n",
    "favorite_language.lstrip()\n",
    "'python '\n",
    "favorite_language.strip()\n",
    "'python'```"
   ]
  },
  {
   "cell_type": "markdown",
   "metadata": {},
   "source": [
    "### Resumo\n",
    "+ Estrutura de controlo condicional if else (elif)  \n",
    "+ Estrutura de escolha múltipla (dictionary)  \n",
    "+ Estrutura de controlo iterativo: for e while  \n",
    "    + Ciclos aninhados  \n",
    "+ Métodos\n",
    "    + Alguns métodos do tipo string\n",
    "   "
   ]
  },
  {
   "cell_type": "markdown",
   "metadata": {},
   "source": [
    "## Bibliografia\n",
    "Caleiro.C., Ramos.J.(2016). Notebook 01 - Conceitos básicos da linguagem Python  Dep. Matemática -IST.Lisboa:IST\n",
    "https://www.w3schools.com/python/default.asp  \n",
    "Vasconcelos, J. (2015).Python - Algoritmia e Programação Web. Lisboa:FCA\n",
    "Matthes. E.(2019). Python Crash Course - A Hands-On, Project-Based Introduction to Programming. San Francisco: USA  \n",
    "https://docs.python.org/pt-br/3/contents.html  \n",
    "https://kenzie.com.br/blog/dicionario-python/  \n",
    "https://pythonacademy.com.br/blog/dicts-ou-dicionarios-no-python#acessando-itens \n",
    "https://docs.python.org/pt-br/3/library/stdtypes.html#additional-methods-on-integer-types  \n",
    "https://docs.python.org/pt-br/3/library/stdtypes.html#string-methods\n",
    "https://www.w3schools.com/python/python_strings_methods.asp\n",
    "Carvalho. Adelaide. (2021). Práticas de Python - Algoritmia e programação. Lisboa: FCA"
   ]
  },
  {
   "cell_type": "markdown",
   "metadata": {},
   "source": [
    "<p ><img style=\"float:left\" src=\"logo-poch2.png\"></p> "
   ]
  }
 ],
 "metadata": {
  "anaconda-cloud": {},
  "kernelspec": {
   "display_name": "Python 3 (ipykernel)",
   "language": "python",
   "name": "python3"
  },
  "language_info": {
   "codemirror_mode": {
    "name": "ipython",
    "version": 3
   },
   "file_extension": ".py",
   "mimetype": "text/x-python",
   "name": "python",
   "nbconvert_exporter": "python",
   "pygments_lexer": "ipython3",
   "version": "3.9.7"
  },
  "vscode": {
   "interpreter": {
    "hash": "ad2bdc8ecc057115af97d19610ffacc2b4e99fae6737bb82f5d7fb13d2f2c186"
   }
  }
 },
 "nbformat": 4,
 "nbformat_minor": 1
}
