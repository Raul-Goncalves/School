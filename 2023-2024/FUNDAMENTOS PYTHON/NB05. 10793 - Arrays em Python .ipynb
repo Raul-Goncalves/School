{
 "cells": [
  {
   "cell_type": "markdown",
   "metadata": {},
   "source": [
    "<p ><img style=\"float:left\" src=\"ME_AEFHP_unesco2.png\"></p> "
   ]
  },
  {
   "cell_type": "markdown",
   "metadata": {},
   "source": [
    "#### <p ><img style=\"float:right\" src=\"Python-Logo2.png\"></p> \n",
    "# <font color=\"DarkSlateBlue\">UFCD 10793 - Fundamentos de Python</font>\n",
    "## <font color=\"MidnightBlue\">Notebook 05 - Trabalhar com arrays em Python</font> \n",
    "### <font color=\"MidnightBlue\">Sílvia Martins</font> \n",
    "### <font color=\"MidnightBlue\">AEFHP 2022</font> "
   ]
  },
  {
   "cell_type": "markdown",
   "metadata": {},
   "source": [
    "### <font color=\"FireBrick\"> Vetores e matrizes</font> \n",
    "O Python não contém uma estrutura nativa para a representação explícita de `arrays`,  a <b>linguagem aplica as mesmas instruções associadas às listas para manipular arrays</b>.\n",
    "\n",
    "Os vetores e matrizes em Python são criados e manipulados através da estrutura de dados lista encadeada (`list`).\n",
    "Um vetor é representado por uma lista e, uma matriz, é representada por uma lista de listas (a lista das suas linhas), todas com o mesmo comprimento. \n",
    "Não esquecer que os arrays, por definição, armazenam valores do mesmo tipo.\n",
    "\n",
    "No NB 04.10793 - Listas pudeste observar como trabalhar com listas e usar algumas dos seus métodos o que corresponderia a um vetor, sempre que os elementos fossem do mesmo tipo.\n",
    "\n"
   ]
  },
  {
   "cell_type": "markdown",
   "metadata": {},
   "source": [
    "Gerar uma matriz de 4 linhas e 3 colunas e imprimi-la por linhas:"
   ]
  },
  {
   "cell_type": "code",
   "execution_count": 1,
   "metadata": {},
   "outputs": [
    {
     "name": "stdout",
     "output_type": "stream",
     "text": [
      "Matriz (2x2):\n",
      "[[1, 1], [2, 1]]\n",
      "  1\t  1\t\n",
      "  2\t  1\t\n"
     ]
    }
   ],
   "source": [
    "A=[[x, y] for x in range(1,3) for y in range(1,2)]\n",
    "print(f\"Matriz ({len(A)}x{len(A[0])}):\")\n",
    "print(A)\n",
    "for i in range (0,len(A)):\n",
    "    for j in range(0, len(A[i])):\n",
    "        print (f\"{A[i][j]:3d}\\t\", end=\"\")\n",
    "    print()"
   ]
  },
  {
   "cell_type": "markdown",
   "metadata": {},
   "source": [
    "Gerar uma matriz V de 2X2 ,  de inteiros fornecidos pelo utilizador (usando o método `append`):"
   ]
  },
  {
   "cell_type": "code",
   "execution_count": 6,
   "metadata": {},
   "outputs": [
    {
     "name": "stdout",
     "output_type": "stream",
     "text": [
      " elemento[0][0]= 1\n",
      " elemento[0][1]= 2\n",
      " elemento[1][0]= 3\n",
      " elemento[1][1]= 4\n",
      "[[1, 2], [3, 4]]\n"
     ]
    }
   ],
   "source": [
    "M = []\n",
    "for i in range(2):\n",
    "    linha = []                  # inicializar cada linha\n",
    "    for j in range (2):\n",
    "        v = int(input(f\" elemento[{i}][{j}]= \"))\n",
    "        linha.append(v)         # inserir cada  elemento na linha da matriz\n",
    "    M.append(linha)             # acrescentar À matriz V a linha anterior\n",
    "print(M)  # imprimir a matriz"
   ]
  },
  {
   "cell_type": "markdown",
   "metadata": {},
   "source": [
    "Gerar uma matriz V de 2X2 ,  de inteiros fornecidos pelo utilizador inserindo elemento a elemento:"
   ]
  },
  {
   "cell_type": "code",
   "execution_count": 11,
   "metadata": {},
   "outputs": [
    {
     "name": "stdout",
     "output_type": "stream",
     "text": [
      "[0, 0]\n"
     ]
    }
   ],
   "source": [
    "L =[0]*2\n",
    "print(L)"
   ]
  },
  {
   "cell_type": "code",
   "execution_count": 4,
   "metadata": {},
   "outputs": [
    {
     "name": "stdout",
     "output_type": "stream",
     "text": [
      "[[0, 0], [0, 0]]\n"
     ]
    }
   ],
   "source": [
    "M = [[0]*2,[0]*2]  #  gera  2 sublistas na lista com 2 elementos\n",
    "print (M)"
   ]
  },
  {
   "cell_type": "code",
   "execution_count": 7,
   "metadata": {},
   "outputs": [
    {
     "name": "stdout",
     "output_type": "stream",
     "text": [
      "[[0, 0], [0, 0]]\n",
      " elemento[0][0]= 2\n",
      " elemento[0][1]= 3\n",
      " elemento[1][0]= 4\n",
      " elemento[1][1]= 1\n",
      "[[2, 3], [4, 1]]\n"
     ]
    }
   ],
   "source": [
    "M = [0]*2  #  gera  lista co 3 elementos a 0\n",
    "for k in range(2): # criar na lista M 3 sublistas\n",
    "    M[k] = [0]*2\n",
    "print(M)\n",
    "for i in range(2):           \n",
    "    for j in range (2):\n",
    "        v = int(input(f\" elemento[{i}][{j}]= \"))\n",
    "        M[i][j]=v                # inserir cada  elemento na  matriz\n",
    "print(M)                        # imprimir a matriz"
   ]
  },
  {
   "cell_type": "markdown",
   "metadata": {},
   "source": [
    "Somar todos os elementos da matriz:"
   ]
  },
  {
   "cell_type": "code",
   "execution_count": 8,
   "metadata": {},
   "outputs": [
    {
     "name": "stdout",
     "output_type": "stream",
     "text": [
      "10\n"
     ]
    }
   ],
   "source": [
    "soma=0\n",
    "for i in range(0,len(M)):\n",
    "    soma+=sum(M[i])\n",
    "print(soma)"
   ]
  },
  {
   "cell_type": "markdown",
   "metadata": {},
   "source": [
    "Somar por linhas e apresentar a matriz e o resultado à frente de cada linha:"
   ]
  },
  {
   "cell_type": "code",
   "execution_count": 9,
   "metadata": {},
   "outputs": [
    {
     "name": "stdout",
     "output_type": "stream",
     "text": [
      "  2  3\t5\n",
      "  4  1\t5\n"
     ]
    }
   ],
   "source": [
    "for i in range (0,len(M)):\n",
    "    soma=0\n",
    "    for j in range(0, len(M[i])):\n",
    "        soma+=M[i][j]\n",
    "        print(f\"{M[i][j]:3d}\",end=\"\")\n",
    "    print(f\"\\t{soma}\")\n",
    "    "
   ]
  },
  {
   "cell_type": "markdown",
   "metadata": {},
   "source": [
    "Ordenar os elementos (em cada linha) usando o método `sort`"
   ]
  },
  {
   "cell_type": "code",
   "execution_count": 10,
   "metadata": {},
   "outputs": [
    {
     "name": "stdout",
     "output_type": "stream",
     "text": [
      "[[2, 3], [4, 1]]\n"
     ]
    }
   ],
   "source": [
    "list.sort(M)\n",
    "print(M)"
   ]
  },
  {
   "cell_type": "markdown",
   "metadata": {},
   "source": [
    "Suponha-se que se pretende encontrar a diagonal de uma matriz quadrada."
   ]
  },
  {
   "cell_type": "code",
   "execution_count": 11,
   "metadata": {},
   "outputs": [],
   "source": [
    "matriz=[[1, 2, 3], [4, 5, 6], [7, 8, 9]]"
   ]
  },
  {
   "cell_type": "code",
   "execution_count": 12,
   "metadata": {},
   "outputs": [
    {
     "data": {
      "text/plain": [
       "[1, 5, 9]"
      ]
     },
     "execution_count": 12,
     "metadata": {},
     "output_type": "execute_result"
    }
   ],
   "source": [
    "[matriz[i][i] for i in range(len(matriz))]"
   ]
  },
  {
   "cell_type": "markdown",
   "metadata": {},
   "source": [
    " No exemplo seguinte, apresenta-se uma definição por compreensão para transpor matrizes (embora esta operação seja disponibilizada em Python)"
   ]
  },
  {
   "cell_type": "code",
   "execution_count": 13,
   "metadata": {},
   "outputs": [],
   "source": [
    "m=[[1, 2], [3, 4], [5, 6]]"
   ]
  },
  {
   "cell_type": "code",
   "execution_count": 14,
   "metadata": {},
   "outputs": [
    {
     "data": {
      "text/plain": [
       "[[1, 3, 5], [2, 4, 6]]"
      ]
     },
     "execution_count": 14,
     "metadata": {},
     "output_type": "execute_result"
    }
   ],
   "source": [
    "[[linha[i] for linha in m] for i in range(len(m[1]))]"
   ]
  },
  {
   "cell_type": "markdown",
   "metadata": {},
   "source": [
    "Esta expressão constrói uma lista de listas. Para cada valor de `i`, constrói-se uma lista com as posições `i` de cada uma das linhas da matriz original (3), ou seja, com a coluna `i`. Os valores que `i` pode assumir correspondem ao comprimento das linhas, ou seja, ao número de colunas (2)."
   ]
  },
  {
   "cell_type": "markdown",
   "metadata": {},
   "source": [
    "### <font color=\"CadetBlue\"> A biblioteca NumPy</font> \n",
    "Em alternativa, o Python disponibiliza a biblioteca _`NumPy`_ com um conjunto de classes, variáveis de instância, métodos e funções que facilitam o cálculo algébrico com vetores e matrizes de várias dimensões, obtendo-se resultados com maior rapidez do que usando o listas. \n",
    "\n",
    "Portanto, o pacote NumPy, denominado dessa forma devido a abreviação de Numerical Python (Python Numérico), é uma biblioteca de código aberto destinada a realizar operações em arrays multidimensionais. O objeto array no NumPy é chamado `ndarray`, que fornece muitas funções de suporte que facilitam muito o trabalho  com arrays.\n",
    "* O NumPy fornece uma excelente biblioteca para cálculos fáceis (em termos de escrita de código) e rápidos (em termos de velocidade).  \n",
    "* O NumPy fornece algumas excelentes funções de biblioteca para rápida manipulação de imagens. Alguns exemplos são o espelhamento de uma imagem, a rotação de uma imagem por um determinado ângulo etc.  \n",
    "* O NumPy possui também funções incorporadas para álgebra linear e geração de números aleatórios.  \n",
    "* É uma biblioteca que pode ser usada em conjunto do `SciPy` e `MatPlotlib`, dois pacotes científicos para análise e visualização de dados.\n",
    "\n",
    "Podes encontrar mais informação em: [W3Shools](https://www.w3schools.com/python/numpy/default.asp)\n"
   ]
  },
  {
   "cell_type": "markdown",
   "metadata": {},
   "source": [
    "O NumPy pode ser instalado com `pip`, no comando no shell com a instrução:\n",
    "\n",
    "```pip install numpy```\n",
    "ou na distribuição anaconda, com a instrução: \n",
    "```conda install numpy```\n"
   ]
  },
  {
   "cell_type": "code",
   "execution_count": 15,
   "metadata": {},
   "outputs": [
    {
     "name": "stdout",
     "output_type": "stream",
     "text": [
      "[[0. 0. 0.]\n",
      " [0. 0. 0.]]\n"
     ]
    }
   ],
   "source": [
    "import numpy as np\n",
    "# gerar um array (vetor) de 2x3 preenchido com o valor zero\n",
    "x = np.zeros((2, 3)) \n",
    "print (x)"
   ]
  },
  {
   "cell_type": "markdown",
   "metadata": {},
   "source": [
    "Criar um **array unidimensional (vetor)** com os valores 1, 2, 3, 4 e 5:"
   ]
  },
  {
   "cell_type": "code",
   "execution_count": 16,
   "metadata": {},
   "outputs": [
    {
     "name": "stdout",
     "output_type": "stream",
     "text": [
      "[1 2 3 4 5]\n",
      "<class 'numpy.ndarray'>\n"
     ]
    }
   ],
   "source": [
    "import numpy as np                   # importar a biblioteca numpy e todas as suas funcionalidades\n",
    "V = np.array([1, 2, 3, 4, 5]) \n",
    "print(V)\n",
    "print (type(V))              # verificar o tipo do objeto"
   ]
  },
  {
   "cell_type": "markdown",
   "metadata": {},
   "source": [
    "Criar um **array bidimensional (matriz)** com os valores 1, 2, 3 e 4, 5 e 6:"
   ]
  },
  {
   "cell_type": "code",
   "execution_count": 17,
   "metadata": {},
   "outputs": [
    {
     "name": "stdout",
     "output_type": "stream",
     "text": [
      "[[1 2 3]\n",
      " [4 5 6]]\n"
     ]
    }
   ],
   "source": [
    "import numpy as np                   # importar a biblioteca numpy e todas as suas funcionalidades\n",
    "M = np.array([[1, 2, 3],[4, 5, 6]]) \n",
    "print(M)"
   ]
  },
  {
   "cell_type": "markdown",
   "metadata": {},
   "source": [
    "Criar um **array tridimensional** com 2 arrays bidimensionais valores 1, 2, 3 e 4, 5 e 6:"
   ]
  },
  {
   "cell_type": "code",
   "execution_count": 18,
   "metadata": {},
   "outputs": [
    {
     "name": "stdout",
     "output_type": "stream",
     "text": [
      "[[[1 2 3]\n",
      "  [4 5 6]]\n",
      "\n",
      " [[1 2 3]\n",
      "  [4 5 6]]]\n"
     ]
    }
   ],
   "source": [
    "import numpy as np               \n",
    "Z = np.array([[[1, 2, 3],[4, 5, 6]],[[1, 2, 3],[4, 5, 6]]]) \n",
    "print(Z)"
   ]
  },
  {
   "cell_type": "markdown",
   "metadata": {},
   "source": [
    "**Alguns atributos e métodos mais usados em arrays:  **\n",
    "(Supondo arr e arr2 arrays)\n",
    "\n",
    "TIPO | UTILIZAÇÃO | Sintaxe  \n",
    ":-------- | :--------: | :--------  \n",
    "atributo ndim | verifica a dimensão do array | arr.ndim  \n",
    "atributo ndmin | definir a dimensão do array | ndmin=<numero>  \n",
    "    propriedade dtype | devolve o tipo de dados no array | arr.dtype  \n",
    "    método copy | copiar o array arr para arr2| arr2=arr.copy() \n",
    "    método view | cria uma visualização do array arr em arr2 | arr2=arr.view()  \n",
    "    atributo shape | dá-nos a forma do array (linas, colunas,...) | arr.shape  \n",
    "    método sort | ordena os elementos do array | np.sort(arr)  \n",
    "    método where | Devolve o índice do valor dado como parâmetro | x=np.where(arr == <valor>)\n",
    "    \n",
    "    \n"
   ]
  },
  {
   "cell_type": "code",
   "execution_count": 19,
   "metadata": {},
   "outputs": [
    {
     "name": "stdout",
     "output_type": "stream",
     "text": [
      "Dimensão:  1\n",
      "[[[1 2 3 4]]]\n",
      "Dimensão:  3\n"
     ]
    }
   ],
   "source": [
    "V = np.array([1, 2, 3, 4, 5]) \n",
    "print(\"Dimensão: \",V.ndim)\n",
    "Z = np.array([1, 2, 3, 4], ndmin=3)\n",
    "print(Z)\n",
    "print (\"Dimensão: \",Z.ndim)"
   ]
  },
  {
   "cell_type": "markdown",
   "metadata": {},
   "source": [
    "**Acesso aos elementos de um array**  \n",
    "O procedimento é o mesmo que o efetuado para acesso a elementos de uma lista."
   ]
  },
  {
   "cell_type": "code",
   "execution_count": 20,
   "metadata": {},
   "outputs": [
    {
     "name": "stdout",
     "output_type": "stream",
     "text": [
      "2\n",
      "6\n",
      "2.ª linha da 1.ª coluna:  5\n"
     ]
    }
   ],
   "source": [
    "A = np.array([1, 2, 3, 4])\n",
    "print(A[1])\n",
    "print (A[1]+A[3])\n",
    "\n",
    "B=np.array([[1, 2, 3, 4],[5, 6, 7, 8]])\n",
    "print(\"2.ª linha da 1.ª coluna: \", B[1,0]) # <---\n"
   ]
  },
  {
   "cell_type": "markdown",
   "metadata": {},
   "source": [
    "Para aceder a um elemento de um array. a partir do fim usar índices negativos (como para as listas):"
   ]
  },
  {
   "cell_type": "code",
   "execution_count": 21,
   "metadata": {},
   "outputs": [
    {
     "name": "stdout",
     "output_type": "stream",
     "text": [
      "3\n"
     ]
    }
   ],
   "source": [
    "A = np.array([1, 2, 3, 4])\n",
    "print(A[-2])"
   ]
  },
  {
   "cell_type": "markdown",
   "metadata": {},
   "source": [
    "#### <font color=\"DarkSlateGray\">Fatiar (slicing) arrays</font>\n",
    "Podemos definir qual a \"fatia\" de elementos de um array que pretendemos, indicando o índice inicial e final e ainda o step (tal como nas listas):  \n",
    "[start:end:step]"
   ]
  },
  {
   "cell_type": "code",
   "execution_count": 22,
   "metadata": {},
   "outputs": [
    {
     "name": "stdout",
     "output_type": "stream",
     "text": [
      "[2 4]\n",
      "[1 3 5 7]\n"
     ]
    }
   ],
   "source": [
    "A = np.array([1, 2, 3, 4, 5, 6, 7])\n",
    "print(A[1:5:2])\n",
    "print(A[::2])"
   ]
  },
  {
   "cell_type": "code",
   "execution_count": 23,
   "metadata": {},
   "outputs": [
    {
     "name": "stdout",
     "output_type": "stream",
     "text": [
      "[2 3 4] \t [3 5 7]\n"
     ]
    }
   ],
   "source": [
    "M = np.array([[1, 2, 3, 4, 5, 6],[3, 4, 5, 6, 7, 8]])\n",
    "print(M[0, 1:4],\"\\t\", M[1,::2])"
   ]
  },
  {
   "cell_type": "markdown",
   "metadata": {},
   "source": [
    "**Lista de todos os tipos de dados em NumPy**\n",
    "\n",
    "i - integer  \n",
    "b - boolean  \n",
    "u - unsigned integer  \n",
    "f - float  \n",
    "c - complex float  \n",
    "m - timedelta  \n",
    "M - datetime  \n",
    "O - object  \n",
    "S - string  \n",
    "U - unicode string  \n",
    "V - pedaço fixo de memória para outro tipo ( void )  \n",
    "\n",
    "Exemplo: Criar um array com dados do tipo inteiro de 4 bytes:"
   ]
  },
  {
   "cell_type": "code",
   "execution_count": 24,
   "metadata": {},
   "outputs": [
    {
     "name": "stdout",
     "output_type": "stream",
     "text": [
      "[1. 2. 3. 4. 5. 6. 7.]\n",
      "float32\n"
     ]
    }
   ],
   "source": [
    "A = np.array([1, 2, 3, 4, 5, 6, 7], dtype='f4')\n",
    "print(A)\n",
    "print(A.dtype)"
   ]
  },
  {
   "cell_type": "markdown",
   "metadata": {},
   "source": [
    "**Métodos copy e view**"
   ]
  },
  {
   "cell_type": "code",
   "execution_count": 25,
   "metadata": {},
   "outputs": [
    {
     "name": "stdout",
     "output_type": "stream",
     "text": [
      "[1 2 3 4 5]\n",
      "[1 2 3 4 5]\n"
     ]
    }
   ],
   "source": [
    "import numpy as np\n",
    "\n",
    "A = np.array([1, 2, 3, 4, 5])\n",
    "\n",
    "x = A.copy()\n",
    "y = A.view()\n",
    "print(x)\n",
    "print(y)"
   ]
  },
  {
   "cell_type": "markdown",
   "metadata": {},
   "source": [
    "oedenar um array com a função `sort`"
   ]
  },
  {
   "cell_type": "code",
   "execution_count": 26,
   "metadata": {},
   "outputs": [
    {
     "name": "stdout",
     "output_type": "stream",
     "text": [
      "['banana' 'cereja' 'melão']\n"
     ]
    }
   ],
   "source": [
    "fruta = np.array(['banana', 'cereja', 'melão'])\n",
    "\n",
    "print(np.sort(fruta))"
   ]
  },
  {
   "cell_type": "markdown",
   "metadata": {},
   "source": [
    "Encontrar o índice para o valor especificado (método ` where()` ):"
   ]
  },
  {
   "cell_type": "code",
   "execution_count": 27,
   "metadata": {},
   "outputs": [
    {
     "name": "stdout",
     "output_type": "stream",
     "text": [
      "(array([1], dtype=int64),)\n",
      "(array([2, 4], dtype=int64),)\n",
      "(array([], dtype=int64),)\n"
     ]
    }
   ],
   "source": [
    "A = np.array([1, 2, 3, 4, 3, 5])\n",
    "\n",
    "x = np.where(A == 2)\n",
    "print(x)\n",
    "x = np.where(A == 3)\n",
    "print(x)\n",
    "x = np.where(A == 7)\n",
    "print(x)"
   ]
  },
  {
   "cell_type": "markdown",
   "metadata": {},
   "source": [
    " #### <font color=\"DarkSlateGray\">Gerar números aleatórios</font>\n",
    "A biblioteca NumPy disponibiliza o módulo `random` para trabalhar com números aleatórios.\n",
    "**Exemplos:**"
   ]
  },
  {
   "cell_type": "code",
   "execution_count": 28,
   "metadata": {},
   "outputs": [
    {
     "name": "stdout",
     "output_type": "stream",
     "text": [
      "53\n"
     ]
    }
   ],
   "source": [
    "# gerar um número inteiro aleatório entre 0 e 100, inclusive.\n",
    "from numpy import random\n",
    "x = random.randint(100)\n",
    "print(x)"
   ]
  },
  {
   "cell_type": "code",
   "execution_count": 29,
   "metadata": {},
   "outputs": [
    {
     "name": "stdout",
     "output_type": "stream",
     "text": [
      "0.9928100148588389\n"
     ]
    }
   ],
   "source": [
    "# gerar um número real aleatório entre 0 e 1, inclusive.\n",
    "from numpy import random\n",
    "x = random.rand()\n",
    "print(x)"
   ]
  },
  {
   "cell_type": "code",
   "execution_count": 30,
   "metadata": {},
   "outputs": [
    {
     "name": "stdout",
     "output_type": "stream",
     "text": [
      "[94 83 65  3 58]\n"
     ]
    }
   ],
   "source": [
    "# gerar um array (vetor) de 5 números inteiros aleatórios entre 0 e 100, inclusive.\n",
    "from numpy import random\n",
    "x = random.randint(100, size=(5))\n",
    "print(x)"
   ]
  },
  {
   "cell_type": "code",
   "execution_count": 31,
   "metadata": {},
   "outputs": [
    {
     "name": "stdout",
     "output_type": "stream",
     "text": [
      "[[16 13 21  2 94]\n",
      " [63 53 99 23 72]\n",
      " [76  3 44 90 12]]\n"
     ]
    }
   ],
   "source": [
    "# gerar um array (matriz) de 3x5 números inteiros aleatórios entre 0 e 100, inclusive.\n",
    "from numpy import random\n",
    "x = random.randint(100, size=(3,5))\n",
    "print(x)"
   ]
  },
  {
   "cell_type": "code",
   "execution_count": 32,
   "metadata": {},
   "outputs": [
    {
     "name": "stdout",
     "output_type": "stream",
     "text": [
      "[0.43413539 0.21441121 0.70307328 0.816486   0.51796933]\n"
     ]
    }
   ],
   "source": [
    "# gerar um array (vetor) de 5 números reais aleatórios entre 0 e 1, inclusive.\n",
    "from numpy import random\n",
    "x = random.rand(5)\n",
    "print(x)"
   ]
  },
  {
   "cell_type": "code",
   "execution_count": 33,
   "metadata": {},
   "outputs": [
    {
     "name": "stdout",
     "output_type": "stream",
     "text": [
      "[[0.94202348 0.40795774]\n",
      " [0.04260541 0.20192741]\n",
      " [0.55812448 0.39378   ]\n",
      " [0.03440783 0.63908109]\n",
      " [0.85509283 0.49910577]]\n"
     ]
    }
   ],
   "source": [
    "# gerar um array (matriz) de 5x2 números reais aleatórios entre 0 e 1, inclusive.\n",
    "from numpy import random\n",
    "x = random.rand(5,2)\n",
    "print(x)"
   ]
  },
  {
   "cell_type": "markdown",
   "metadata": {},
   "source": [
    " #### <font color=\"DarkSlateGray\">Executar cálculos matemáticos com Arrays NumPy</font>  \n",
    "**Exemplos:**"
   ]
  },
  {
   "cell_type": "code",
   "execution_count": 34,
   "metadata": {},
   "outputs": [
    {
     "name": "stdout",
     "output_type": "stream",
     "text": [
      "Soma = \n",
      " [[2 3]\n",
      " [4 5]]\n",
      "\n",
      "\n",
      "Difference = \n",
      " [[0 1]\n",
      " [2 3]]\n",
      "\n",
      "\n",
      "Product = \n",
      " [[1 2]\n",
      " [3 4]]\n",
      "\n",
      "\n",
      "Quotient = \n",
      " [[1. 2.]\n",
      " [3. 4.]]\n"
     ]
    }
   ],
   "source": [
    "import numpy as np\n",
    "A = np.array([[1, 2], [3, 4]])\n",
    "B = np.array([[1, 1], [1, 1]])\n",
    "s = A + B # Soma\n",
    "sub = A - B # Subtração\n",
    "p = A * B # Multiplicação\n",
    "q = A / B # Divisão\n",
    "print('Soma = \\n', s)\n",
    "print('\\n')\n",
    "print('Difference = \\n', sub)\n",
    "print('\\n')\n",
    "print('Product = \\n',  p)\n",
    "print('\\n')\n",
    "print('Quotient = \\n', +q)\n"
   ]
  },
  {
   "cell_type": "markdown",
   "metadata": {},
   "source": [
    "**Nota:** o operador de multiplicação executa a multiplicação por elementos.  \n",
    "Para executar a <u>multiplicação de array</u>. utiliza-se a função `dot `:\n",
    "\n",
    "\n"
   ]
  },
  {
   "cell_type": "code",
   "execution_count": 35,
   "metadata": {},
   "outputs": [
    {
     "name": "stdout",
     "output_type": "stream",
     "text": [
      "Matriz produto = \n",
      " [[3 3]\n",
      " [7 7]]\n"
     ]
    }
   ],
   "source": [
    "matriz_produto = A.dot(B) \n",
    "print('Matriz produto = \\n', + matriz_produto)"
   ]
  },
  {
   "cell_type": "markdown",
   "metadata": {},
   "source": [
    "## Bibliografia\n",
    "Caleiro.C., Ramos.J.(2016). NB03 - Listas e outros tipos iteraveis. Dep. Matemática - IST.Lisboa:IST  \n",
    "Vasconcelos, J. (2015).Python - Algoritmia e Programação Web. Lisboa:FCA  \n",
    "Matthes. E.(2019). Python Crash Course - A Hands-On, Project-Based Introduction to Programming. San Francisco: USA  \n",
    "https://docs.python.org/pt-br/3/contents.html  \n",
    "https://medium.com/ensina-ai/entendendo-a-biblioteca-numpy-4858fde63355\n",
    "https://www.w3schools.com/python/numpy/default.asp\n",
    "https://www.w3resource.com/numpy/array-creation/arange.php\n",
    "https://www.w3resource.com/numpy/manipulation/reshape.php  \n",
    "Carvalho. Adelaide. (2021). Práticas de Python - Algoritmia e programação. Lisboa: FCA"
   ]
  },
  {
   "cell_type": "markdown",
   "metadata": {},
   "source": [
    "<p ><img style=\"float:left\" src=\"logo-poch2.png\"></p> "
   ]
  }
 ],
 "metadata": {
  "anaconda-cloud": {},
  "kernelspec": {
   "display_name": "Python 3 (ipykernel)",
   "language": "python",
   "name": "python3"
  },
  "language_info": {
   "codemirror_mode": {
    "name": "ipython",
    "version": 3
   },
   "file_extension": ".py",
   "mimetype": "text/x-python",
   "name": "python",
   "nbconvert_exporter": "python",
   "pygments_lexer": "ipython3",
   "version": "3.9.7"
  },
  "vscode": {
   "interpreter": {
    "hash": "ad2bdc8ecc057115af97d19610ffacc2b4e99fae6737bb82f5d7fb13d2f2c186"
   }
  }
 },
 "nbformat": 4,
 "nbformat_minor": 1
}
