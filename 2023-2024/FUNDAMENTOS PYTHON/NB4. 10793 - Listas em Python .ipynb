{
 "cells": [
  {
   "cell_type": "markdown",
   "metadata": {},
   "source": [
    "<p ><img style=\"float:left\" src=\"logoAEFHP_RP2.png\"></p> "
   ]
  },
  {
   "cell_type": "markdown",
   "metadata": {},
   "source": [
    "#### <p ><img style=\"float:right\" src=\"Python-Logo2.png\"></p> \n",
    "# <font color=\"DarkSlateBlue\">UFCD 10793 - Fundamentos de Python</font>\n",
    "## <font color=\"MidnightBlue\">Notebook 04 - Listas em Python</font> \n",
    "### <font color=\"MidnightBlue\">Sílvia Martins</font> \n",
    "### <font color=\"MidnightBlue\">AEFHP 2022</font> "
   ]
  },
  {
   "cell_type": "markdown",
   "metadata": {},
   "source": [
    "### <font color=\"FireBrick\"> O que é uma lista?  </font>\n",
    "\n",
    "Por vezes, é necessário trabalhar com coleções de objetos. Tal pode ser conseguido em Python recorrendo a listas `list`, que são objetos iteráveis e mutáveis (os seus elementos podem ser alterados por operações de atribuição).\n",
    "\n",
    "Uma lista é um conjunto linear de dados/objetos, sem comprimento fixo.Os objetos de uma lista não precisam de ser todos do mesmo tipo.\n",
    "\n",
    "Os elementos das listas podem ser tratados como coleções ou individualmente. \n",
    "\n",
    "As `listas` são identificadas pelos respetivos nomes e os seus elementos (objetos) são identificados individualmente através do nome da lista seguida do índice, isto é, a posição que o elemento ocupa no conjunto.\n",
    "\n",
    "O 1.º elemento de  uma lista tem índice zero (0).\n",
    "\n",
    "### Listas e métodos\n",
    "As listas são classes, logo também  têm métodos associados, como seja `append()` - acrescentar elementos, `remove()` - remover elementos,`reverse()`- inverter os elementos, entre outros."
   ]
  },
  {
   "cell_type": "code",
   "execution_count": null,
   "metadata": {},
   "outputs": [],
   "source": [
    "list."
   ]
  },
  {
   "cell_type": "code",
   "execution_count": 1,
   "metadata": {},
   "outputs": [
    {
     "data": {
      "image/png": "[encoded data removed]",
      "text/plain": [
       "<IPython.core.display.Image object>"
      ]
     },
     "execution_count": 1,
     "metadata": {},
     "output_type": "execute_result"
    }
   ],
   "source": [
    "from IPython.display import Image\n",
    "Image(\"list_metodos.png\")"
   ]
  },
  {
   "cell_type": "markdown",
   "metadata": {},
   "source": [
    "Apresentam-se de seguida alguns `exemplos` que ilustram as operações básicas sobre listas. Algumas destas operações são semelhantes a operações sobre cadeias de carateres, também iteráveis, apresentadas no NB3."
   ]
  },
  {
   "cell_type": "markdown",
   "metadata": {},
   "source": [
    "Atribuir à lista vazia, denotada por `[]`, o nome `L`."
   ]
  },
  {
   "cell_type": "code",
   "execution_count": 2,
   "metadata": {},
   "outputs": [],
   "source": [
    "L=[]"
   ]
  },
  {
   "cell_type": "markdown",
   "metadata": {},
   "source": [
    "Lista, de nome L1 formada pelos elementos 1, 2, 3, 4, 5 e 6."
   ]
  },
  {
   "cell_type": "code",
   "execution_count": 3,
   "metadata": {},
   "outputs": [],
   "source": [
    "L1=[1,2,3,4,5,6]"
   ]
  },
  {
   "cell_type": "markdown",
   "metadata": {},
   "source": [
    "A operação `+` permite concatenar listas. Também pode ser usada para repetição:  "
   ]
  },
  {
   "cell_type": "code",
   "execution_count": 4,
   "metadata": {},
   "outputs": [],
   "source": [
    "L2=[3, 4]"
   ]
  },
  {
   "cell_type": "code",
   "execution_count": 5,
   "metadata": {},
   "outputs": [
    {
     "data": {
      "text/plain": [
       "[1, 2, 3, 4, 5, 6, 3, 4]"
      ]
     },
     "execution_count": 5,
     "metadata": {},
     "output_type": "execute_result"
    }
   ],
   "source": [
    "L1+L2"
   ]
  },
  {
   "cell_type": "code",
   "execution_count": 6,
   "metadata": {},
   "outputs": [
    {
     "data": {
      "text/plain": [
       "[1, 2, 3, 4, 5, 6, 1, 2, 3, 4, 5, 6]"
      ]
     },
     "execution_count": 6,
     "metadata": {},
     "output_type": "execute_result"
    }
   ],
   "source": [
    "L1+L1"
   ]
  },
  {
   "cell_type": "markdown",
   "metadata": {},
   "source": [
    "Também podemos duplicar, triplicar lista com o operador **` * `**"
   ]
  },
  {
   "cell_type": "code",
   "execution_count": 7,
   "metadata": {},
   "outputs": [
    {
     "data": {
      "text/plain": [
       "[1, 2, 3, 4, 5, 6, 1, 2, 3, 4, 5, 6]"
      ]
     },
     "execution_count": 7,
     "metadata": {},
     "output_type": "execute_result"
    }
   ],
   "source": [
    "L1*2"
   ]
  },
  {
   "cell_type": "markdown",
   "metadata": {},
   "source": [
    "O **comprimento de uma lista** pode ser obtido usando a função _`len()`_:"
   ]
  },
  {
   "cell_type": "code",
   "execution_count": 8,
   "metadata": {},
   "outputs": [
    {
     "data": {
      "text/plain": [
       "6"
      ]
     },
     "execution_count": 8,
     "metadata": {},
     "output_type": "execute_result"
    }
   ],
   "source": [
    "len(L1)"
   ]
  },
  {
   "cell_type": "code",
   "execution_count": 9,
   "metadata": {},
   "outputs": [
    {
     "data": {
      "text/plain": [
       "3"
      ]
     },
     "execution_count": 9,
     "metadata": {},
     "output_type": "execute_result"
    }
   ],
   "source": [
    "L1[2]  # identifica o 3.º elemento de L1, isto é, o elemento de índice 2"
   ]
  },
  {
   "cell_type": "code",
   "execution_count": 10,
   "metadata": {},
   "outputs": [
    {
     "data": {
      "text/plain": [
       "[2, 3, 4]"
      ]
     },
     "execution_count": 10,
     "metadata": {},
     "output_type": "execute_result"
    }
   ],
   "source": [
    "L1[1:4] # identifica os elementos de L1, com índices de 1, 2 ,3 e 4 "
   ]
  },
  {
   "cell_type": "markdown",
   "metadata": {},
   "source": [
    "Também podemos atribuir um passo (step) para aceder aos elementos da lista , de acordo com o passo definido:"
   ]
  },
  {
   "cell_type": "code",
   "execution_count": 11,
   "metadata": {},
   "outputs": [
    {
     "data": {
      "text/plain": [
       "[2, 4]"
      ]
     },
     "execution_count": 11,
     "metadata": {},
     "output_type": "execute_result"
    }
   ],
   "source": [
    "L1[1:4:2]"
   ]
  },
  {
   "cell_type": "markdown",
   "metadata": {},
   "source": [
    "O valor padrão para a posição do 1.º elemento da lista  é 0, para o fim da lista o seu comprimento, Por exemplo, L1[ : 4] fornece valores do índice 0 ao índice 4-1 enquanto que L1[1 : ] fornece valores do índice 1 para\n",
    "índice 6-1 (já que o tamanho de L1 é 6)."
   ]
  },
  {
   "cell_type": "code",
   "execution_count": 12,
   "metadata": {},
   "outputs": [
    {
     "data": {
      "text/plain": [
       "[1, 2, 3, 4]"
      ]
     },
     "execution_count": 12,
     "metadata": {},
     "output_type": "execute_result"
    }
   ],
   "source": [
    "L1[:4]"
   ]
  },
  {
   "cell_type": "code",
   "execution_count": 13,
   "metadata": {},
   "outputs": [
    {
     "data": {
      "text/plain": [
       "[2, 3, 4, 5, 6]"
      ]
     },
     "execution_count": 13,
     "metadata": {},
     "output_type": "execute_result"
    }
   ],
   "source": [
    "L1[1:]"
   ]
  },
  {
   "cell_type": "code",
   "execution_count": 14,
   "metadata": {},
   "outputs": [
    {
     "data": {
      "text/plain": [
       "[2, 4, 6]"
      ]
     },
     "execution_count": 14,
     "metadata": {},
     "output_type": "execute_result"
    }
   ],
   "source": [
    "L1[1::2] # o mesmo que o anterior mas de 2 em 2"
   ]
  },
  {
   "cell_type": "markdown",
   "metadata": {},
   "source": [
    "Podemos aceder às posições da lista a partir do fim. A posição -1 corresponde ao último elemento da lista, a posição -2 corresponde ao penúltimo elemento, e assim sucessivamente."
   ]
  },
  {
   "cell_type": "code",
   "execution_count": 15,
   "metadata": {},
   "outputs": [
    {
     "data": {
      "text/plain": [
       "6"
      ]
     },
     "execution_count": 15,
     "metadata": {},
     "output_type": "execute_result"
    }
   ],
   "source": [
    "L1[-1]"
   ]
  },
  {
   "cell_type": "code",
   "execution_count": 16,
   "metadata": {},
   "outputs": [
    {
     "data": {
      "text/plain": [
       "5"
      ]
     },
     "execution_count": 16,
     "metadata": {},
     "output_type": "execute_result"
    }
   ],
   "source": [
    "L1[-2]"
   ]
  },
  {
   "cell_type": "markdown",
   "metadata": {},
   "source": [
    "**Copiar uma lista para outra lista**  \n",
    "Para copiar uma lista, pode-se usar um subconjuntode elementos que inclua a lista original, omitindo oindice inicial e o indice final ([:]). Esta síntaxe indica que se pretende obter uma parte da lista que começa no início e no fim desta, indo coincidir com ela. "
   ]
  },
  {
   "cell_type": "code",
   "execution_count": 17,
   "metadata": {},
   "outputs": [
    {
     "name": "stdout",
     "output_type": "stream",
     "text": [
      "Bebidas favoritas:\n",
      "['água', 'café', 'sumo']\n",
      "\n",
      "cópia de Bebidas favoritas:\n",
      "['água', 'café', 'sumo']\n"
     ]
    }
   ],
   "source": [
    "bebidas = ['água', 'café', 'sumo']\n",
    "copia_bebidas = bebidas[:]\n",
    "print(\"Bebidas favoritas:\")\n",
    "print(bebidas)\n",
    "print(\"\\ncópia de Bebidas favoritas:\")\n",
    "print(copia_bebidas)"
   ]
  },
  {
   "cell_type": "markdown",
   "metadata": {},
   "source": [
    "Os elementos das listas podem ser outras listas (`sublistas`):"
   ]
  },
  {
   "cell_type": "code",
   "execution_count": 18,
   "metadata": {},
   "outputs": [],
   "source": [
    "L=[[2,3,4],[10,[2,6]],15]"
   ]
  },
  {
   "cell_type": "markdown",
   "metadata": {},
   "source": [
    "Em que:  \n",
    "L[0]       identifica a sublista [2,3,4]    \n",
    "L[0][2]    identifica o elemento 4  \n",
    "L[1]       identifica a sublista [10,[2,6]]  \n",
    "L[1][0]    identifica o elemento 10   \n",
    "L[1][1]    identifica a sublista [2,6]  \n",
    "L[1][1][1] identifica o elemento 6  "
   ]
  },
  {
   "cell_type": "code",
   "execution_count": 19,
   "metadata": {},
   "outputs": [
    {
     "name": "stdout",
     "output_type": "stream",
     "text": [
      "[2, 3, 4]\n",
      "4\n",
      "[10, [2, 6]]\n",
      "10\n",
      "[2, 6]\n",
      "6\n"
     ]
    }
   ],
   "source": [
    "print(L[0])     \n",
    "print(L[0][2])  \n",
    "print(L[1])    \n",
    "print(L[1][0])   \n",
    "print(L[1][1])   \n",
    "print(L[1][1][1]) "
   ]
  },
  {
   "cell_type": "markdown",
   "metadata": {},
   "source": [
    "Ou <u>imprimir um número determinado de vezes a lista</u>: "
   ]
  },
  {
   "cell_type": "code",
   "execution_count": 20,
   "metadata": {},
   "outputs": [
    {
     "name": "stdout",
     "output_type": "stream",
     "text": [
      "[1, 2, 3, 4, 5]\n",
      "[1, 2, 3, 4, 5]\n",
      "[1, 2, 3, 4, 5]\n",
      "[1, 2, 3, 4, 5]\n",
      "[1, 2, 3, 4, 5]\n"
     ]
    }
   ],
   "source": [
    "L=[1,2,3,4,5]\n",
    "for i in L:  # em que i representa o nº de elementos da lista: 5\n",
    "    print(L)"
   ]
  },
  {
   "cell_type": "markdown",
   "metadata": {},
   "source": [
    "Ou <u>imprimir cada um dos elementos da lista </u>:"
   ]
  },
  {
   "cell_type": "code",
   "execution_count": 21,
   "metadata": {},
   "outputs": [
    {
     "name": "stdout",
     "output_type": "stream",
     "text": [
      "1k\n",
      "2\n",
      "3\n",
      "4\n"
     ]
    }
   ],
   "source": [
    "L=['1k',2,3,4]\n",
    "for i in L:\n",
    "    print(i)"
   ]
  },
  {
   "cell_type": "markdown",
   "metadata": {},
   "source": [
    "### <font color=\"DarkSlateBlue\"> Alterar, Adicionar e Remover elementos em listas</font>  "
   ]
  },
  {
   "cell_type": "markdown",
   "metadata": {},
   "source": [
    "Atribuição de um novo valor a uma elemento da lista:"
   ]
  },
  {
   "cell_type": "code",
   "execution_count": 22,
   "metadata": {},
   "outputs": [
    {
     "name": "stdout",
     "output_type": "stream",
     "text": [
      "['1k', 20, 3, 4]\n"
     ]
    }
   ],
   "source": [
    "L[1]=20\n",
    "print(L)"
   ]
  },
  {
   "cell_type": "markdown",
   "metadata": {},
   "source": [
    "#### <font color=\"FireBrick\">Listas definidas por compreensão</font> \n",
    "\n",
    "Também é possível obter uma lista de valores convertendo o resultado da função `range(inicio[, fim,[step]])` diretamente numa lista usando a função `list()`.  \n",
    "Quando o argumento da função list() é  a chamada da função range(), a saída será uma lista de números:"
   ]
  },
  {
   "cell_type": "code",
   "execution_count": 23,
   "metadata": {},
   "outputs": [
    {
     "name": "stdout",
     "output_type": "stream",
     "text": [
      "[1, 2, 3, 4, 5]\n"
     ]
    }
   ],
   "source": [
    "num = list(range(1, 6))\n",
    "print(num)"
   ]
  },
  {
   "cell_type": "markdown",
   "metadata": {},
   "source": [
    "Também podemos usar a função range() como argumento da função list , para por exemplo listar os números entre dois valores inteiros e definir o step, obtendo por exemplo os números pares entre 1 e 10:"
   ]
  },
  {
   "cell_type": "code",
   "execution_count": 24,
   "metadata": {},
   "outputs": [
    {
     "data": {
      "text/plain": [
       "[2, 4, 6, 8, 10]"
      ]
     },
     "execution_count": 24,
     "metadata": {},
     "output_type": "execute_result"
    }
   ],
   "source": [
    "list(range(2,11,2))"
   ]
  },
  {
   "cell_type": "markdown",
   "metadata": {},
   "source": [
    "No exemplo seguinte, define-se a lista de todos os quadrados dos números entre 0 e 9, usando `range`"
   ]
  },
  {
   "cell_type": "code",
   "execution_count": 25,
   "metadata": {},
   "outputs": [
    {
     "data": {
      "text/plain": [
       "[0, 1, 4, 9, 16, 25, 36, 49, 64, 81]"
      ]
     },
     "execution_count": 25,
     "metadata": {},
     "output_type": "execute_result"
    }
   ],
   "source": [
    "[x**2 for x in range(10)]"
   ]
  },
  {
   "cell_type": "code",
   "execution_count": 26,
   "metadata": {},
   "outputs": [
    {
     "data": {
      "text/plain": [
       "[[0, 0],\n",
       " [0, 1],\n",
       " [1, 0],\n",
       " [1, 1],\n",
       " [2, 0],\n",
       " [2, 1],\n",
       " [3, 0],\n",
       " [3, 1],\n",
       " [4, 0],\n",
       " [4, 1]]"
      ]
     },
     "execution_count": 26,
     "metadata": {},
     "output_type": "execute_result"
    }
   ],
   "source": [
    "[[x, y] for x in range(5) for y in range(2)]"
   ]
  },
  {
   "cell_type": "markdown",
   "metadata": {},
   "source": [
    "Os exemplos anteriores podem ser usados com outras listas:"
   ]
  },
  {
   "cell_type": "code",
   "execution_count": 27,
   "metadata": {},
   "outputs": [
    {
     "data": {
      "text/plain": [
       "[1, 9, 25, 64]"
      ]
     },
     "execution_count": 27,
     "metadata": {},
     "output_type": "execute_result"
    }
   ],
   "source": [
    "a=[1, 3, 5, 8]\n",
    "[x**2 for x in a]"
   ]
  },
  {
   "cell_type": "markdown",
   "metadata": {},
   "source": [
    "Podemos também  construir uma lista de pares ordenados com valores entre 1 e 3, desde que a primeira posição seja diferente da segunda."
   ]
  },
  {
   "cell_type": "code",
   "execution_count": 28,
   "metadata": {},
   "outputs": [
    {
     "data": {
      "text/plain": [
       "[[1, 1], [2, 2], [3, 3]]"
      ]
     },
     "execution_count": 28,
     "metadata": {},
     "output_type": "execute_result"
    }
   ],
   "source": [
    "[[x,y] for x in range(1,4) for y in range(1,4) if x==y ]"
   ]
  },
  {
   "cell_type": "markdown",
   "metadata": {},
   "source": [
    "#### <font color=\"FireBrick\"> Enserir elementos em listas</font>  "
   ]
  },
  {
   "cell_type": "markdown",
   "metadata": {},
   "source": [
    "Inserir um elemento numa lista:"
   ]
  },
  {
   "cell_type": "code",
   "execution_count": 29,
   "metadata": {},
   "outputs": [
    {
     "name": "stdout",
     "output_type": "stream",
     "text": [
      "[1]\n"
     ]
    }
   ],
   "source": [
    "L=[]\n",
    "L.append(1)\n",
    "print(L)"
   ]
  },
  {
   "cell_type": "code",
   "execution_count": 30,
   "metadata": {},
   "outputs": [
    {
     "name": "stdout",
     "output_type": "stream",
     "text": [
      "elemento?2\n",
      "elemento?3\n",
      "elemento?s\n",
      "[2, 3]\n"
     ]
    }
   ],
   "source": [
    "L=[]\n",
    "while True:\n",
    "    elemento=input(\"elemento?\")\n",
    "    if elemento.lower()=='s':\n",
    "        break \n",
    "    L.append(int(elemento))\n",
    "print(L)"
   ]
  },
  {
   "cell_type": "markdown",
   "metadata": {},
   "source": [
    "#### <font color=\"FireBrick\"> Eliminar elementos em listas</font>  "
   ]
  },
  {
   "cell_type": "markdown",
   "metadata": {},
   "source": [
    "Eliminar todos os elementos de uma lista:"
   ]
  },
  {
   "cell_type": "code",
   "execution_count": 31,
   "metadata": {},
   "outputs": [
    {
     "name": "stdout",
     "output_type": "stream",
     "text": [
      "[]\n"
     ]
    }
   ],
   "source": [
    "L=[1,2,3,4,2, \"Listas\"]\n",
    "L.clear()\n",
    "print(L)"
   ]
  },
  {
   "cell_type": "markdown",
   "metadata": {},
   "source": [
    "O método remove tem dois argumentos, uma lista e um elemento, e apaga a primeira ocorrência do elemento na lista. No caso de o elemento não estar presente na lista o resultado é um erro de avaliação.\n",
    "\n",
    "Eliminar um elemento específico de numa lista:"
   ]
  },
  {
   "cell_type": "code",
   "execution_count": 32,
   "metadata": {},
   "outputs": [
    {
     "name": "stdout",
     "output_type": "stream",
     "text": [
      "[1, 2, 3, 4, 2]\n",
      "[1, 3, 4, 2]\n"
     ]
    }
   ],
   "source": [
    "L=[1,2,2,3,4,2]\n",
    "L.remove(2) # remove o elemento especificado\n",
    "print(L)\n",
    "del L[1] # remove o elemento correspondente à posição especificada\n",
    "print(L)"
   ]
  },
  {
   "cell_type": "code",
   "execution_count": 33,
   "metadata": {},
   "outputs": [
    {
     "name": "stdout",
     "output_type": "stream",
     "text": [
      "['Ana', 'Rui', 'Amélia']\n"
     ]
    }
   ],
   "source": [
    "L=[\"Ana\", \"Rui\", \"2\", \"Amélia\"]\n",
    "L.remove(\"2\")\n",
    "print(L)"
   ]
  },
  {
   "cell_type": "code",
   "execution_count": 34,
   "metadata": {},
   "outputs": [
    {
     "name": "stdout",
     "output_type": "stream",
     "text": [
      "[1, 3, 6]\n",
      "[1, 3]\n"
     ]
    }
   ],
   "source": [
    "L=[1,2,3,6,2]\n",
    "i=0\n",
    "while i!=len(L):\n",
    "    if L[i]==2:\n",
    "        L.remove(2)\n",
    "        i-=1     \n",
    "    i=i+1\n",
    "print(L)\n",
    "list.remove(L,6)\n",
    "print(L)"
   ]
  },
  {
   "cell_type": "markdown",
   "metadata": {},
   "source": [
    "Remover o último item de uma lista com o método _`pop()`_, e poder continuar a trabalhar com esse item:"
   ]
  },
  {
   "cell_type": "code",
   "execution_count": 35,
   "metadata": {},
   "outputs": [
    {
     "name": "stdout",
     "output_type": "stream",
     "text": [
      "['honda', 'yamaha', 'suzuki']\n",
      "['honda', 'yamaha']\n",
      "suzuki\n"
     ]
    }
   ],
   "source": [
    "motas = ['honda', 'yamaha', 'suzuki']\n",
    "print(motas)\n",
    "popped_motas = motas.pop()\n",
    "print(motas)\n",
    "print(popped_motas)"
   ]
  },
  {
   "cell_type": "markdown",
   "metadata": {},
   "source": [
    "Para remover um item de qualquer posição de uma lista, usando o  método _`pop()`_, basta incluir,como argumento, essa posição:"
   ]
  },
  {
   "cell_type": "code",
   "execution_count": 36,
   "metadata": {},
   "outputs": [
    {
     "name": "stdout",
     "output_type": "stream",
     "text": [
      "['honda', 'yamaha', 'suzuki']\n",
      "['honda', 'suzuki']\n",
      "yamaha\n"
     ]
    }
   ],
   "source": [
    "motas = ['honda', 'yamaha', 'suzuki']\n",
    "print(motas)\n",
    "popped_motas = motas.pop(1)\n",
    "print(motas)\n",
    "print(popped_motas)"
   ]
  },
  {
   "cell_type": "markdown",
   "metadata": {},
   "source": [
    "O método `index` tem dois argumentos, `uma lista` e `um elemento`, e <u>devolve o índice da primeira ocorrência do elemento na lista</u>. No caso de o elemento não estar presente na lista o resultado é um erro de avaliação."
   ]
  },
  {
   "cell_type": "code",
   "execution_count": 37,
   "metadata": {},
   "outputs": [
    {
     "name": "stdout",
     "output_type": "stream",
     "text": [
      "1\n",
      "1\n"
     ]
    }
   ],
   "source": [
    "A=[1, [7, 7, 7], 3]\n",
    "print(list.index(A,[7,7,7])) \n",
    "print(A.index([7,7,7]))"
   ]
  },
  {
   "cell_type": "markdown",
   "metadata": {},
   "source": [
    "O método `count` tem dois argumentos, `uma lista` e `um elemento`, e devolve o <u>número de ocorrências do elemento na lista</u>."
   ]
  },
  {
   "cell_type": "code",
   "execution_count": 38,
   "metadata": {},
   "outputs": [
    {
     "data": {
      "text/plain": [
       "1"
      ]
     },
     "execution_count": 38,
     "metadata": {},
     "output_type": "execute_result"
    }
   ],
   "source": [
    "list.count(A,[7,7,7])"
   ]
  },
  {
   "cell_type": "code",
   "execution_count": 39,
   "metadata": {},
   "outputs": [
    {
     "data": {
      "text/plain": [
       "0"
      ]
     },
     "execution_count": 39,
     "metadata": {},
     "output_type": "execute_result"
    }
   ],
   "source": [
    "list.count(A,7)"
   ]
  },
  {
   "cell_type": "code",
   "execution_count": 40,
   "metadata": {},
   "outputs": [
    {
     "data": {
      "text/plain": [
       "0"
      ]
     },
     "execution_count": 40,
     "metadata": {},
     "output_type": "execute_result"
    }
   ],
   "source": [
    "A.count(7)"
   ]
  },
  {
   "cell_type": "code",
   "execution_count": 41,
   "metadata": {},
   "outputs": [
    {
     "data": {
      "text/plain": [
       "3"
      ]
     },
     "execution_count": 41,
     "metadata": {},
     "output_type": "execute_result"
    }
   ],
   "source": [
    "A[1].count(7)"
   ]
  },
  {
   "cell_type": "markdown",
   "metadata": {},
   "source": [
    "#### <font color=\"FireBrick\"> Outras operações sobre listas</font>   \n",
    "Os métodos como _`sort()`_ e _`reverse()`_ não servem exclusivamente para listas de números. Podem ser usado com listas com outros tipos de elementos, desde que estes sejam __comparáveis__."
   ]
  },
  {
   "cell_type": "markdown",
   "metadata": {},
   "source": [
    "o método reverse() inverte a ordem dos elementos da lista. Admite um argumento adicional que permite escolher a forma como a lista é ordenada, se por ordem crescente, ou por ordem decrescente (`reverse=True`).\n",
    "\n",
    "**Inverter** a ordem dos elementos de numa lista:"
   ]
  },
  {
   "cell_type": "code",
   "execution_count": 42,
   "metadata": {},
   "outputs": [
    {
     "name": "stdout",
     "output_type": "stream",
     "text": [
      "['Ducati', 'Suzuki', 'Yamaha', 'Honda']\n",
      "[3, 4, 5, 8, 1]\n"
     ]
    }
   ],
   "source": [
    "L=[1,8,5,4,3]\n",
    "motas = ['Honda', 'Yamaha', 'Suzuki', 'Ducati']\n",
    "motas.reverse() \n",
    "L.reverse()\n",
    "print(motas)\n",
    "print(L)"
   ]
  },
  {
   "cell_type": "code",
   "execution_count": 43,
   "metadata": {},
   "outputs": [
    {
     "data": {
      "text/plain": [
       "[None, None, None]"
      ]
     },
     "execution_count": 43,
     "metadata": {},
     "output_type": "execute_result"
    }
   ],
   "source": [
    "b=[[1, 2, 3],[4, 5, 6],[7, 8, 9]]\n",
    "[list.reverse(w) for w in b]"
   ]
  },
  {
   "cell_type": "markdown",
   "metadata": {},
   "source": [
    "-> O método `reverse` não devolve nenhum valor. Daí o resultado `[None, None, None]`. No entanto, este foi aplicado a cada uma das sublistas da lista `b`, como se pode constatar consultando o valor de `b`."
   ]
  },
  {
   "cell_type": "code",
   "execution_count": 44,
   "metadata": {},
   "outputs": [
    {
     "data": {
      "text/plain": [
       "[[3, 2, 1], [6, 5, 4], [9, 8, 7]]"
      ]
     },
     "execution_count": 44,
     "metadata": {},
     "output_type": "execute_result"
    }
   ],
   "source": [
    "b"
   ]
  },
  {
   "cell_type": "markdown",
   "metadata": {},
   "source": [
    "**Ordenar** os elementos de numa lista (não suporta elementos de tipos diferentes):\n"
   ]
  },
  {
   "cell_type": "code",
   "execution_count": 45,
   "metadata": {},
   "outputs": [
    {
     "name": "stdout",
     "output_type": "stream",
     "text": [
      "[[1], [2], [3], [4]]\n",
      "[[1, 2], [2, 6], [2, 6, 7], [4], [4, 5]]\n"
     ]
    }
   ],
   "source": [
    "B=[[4], [2], [3], [1]]\n",
    "list.sort(B)\n",
    "print(B)\n",
    "C=[[1,2], [4], [2,6], [2,6,7], [4,5]]\n",
    "list.sort(C)\n",
    "print(C)"
   ]
  },
  {
   "cell_type": "code",
   "execution_count": 48,
   "metadata": {},
   "outputs": [
    {
     "data": {
      "text/plain": [
       "['u', 'o', 'i', 'e', 'a']"
      ]
     },
     "execution_count": 48,
     "metadata": {},
     "output_type": "execute_result"
    }
   ],
   "source": [
    "A=['a', 'i', 'o', 'u', 'e']\n",
    "list.sort(A,reverse=True) #ordena A e inverte o resultado\n",
    "A"
   ]
  },
  {
   "cell_type": "code",
   "execution_count": 49,
   "metadata": {},
   "outputs": [
    {
     "name": "stdout",
     "output_type": "stream",
     "text": [
      "['Honda', 'Yamaha', 'Suzuki', 'Ducati']\n",
      "[1, 8, 5, 4, 3]\n",
      "[8, 5, 4, 3, 1]\n"
     ]
    }
   ],
   "source": [
    "L=[1,8,5,4,3]\n",
    "motas = ['Honda', 'Yamaha', 'Suzuki', 'Ducati']\n",
    "#  pode-se personalizar a  função sort, usando o argumento de palavra-chave (Key). Neste caso ordena pelo tamanho da string\n",
    "motas.sort(key=len) \n",
    "print(motas)\n",
    "print(L)\n",
    "list.sort(L,reverse=True)\n",
    "print(L)"
   ]
  },
  {
   "cell_type": "code",
   "execution_count": 50,
   "metadata": {},
   "outputs": [
    {
     "name": "stdout",
     "output_type": "stream",
     "text": [
      "['Kiwi', 'Orange', 'banana', 'cherry']\n",
      "['banana', 'cherry', 'Kiwi', 'Orange']\n"
     ]
    }
   ],
   "source": [
    "thislist = [\"banana\", \"Orange\", \"Kiwi\", \"cherry\"]\n",
    "thislist.sort()\n",
    "print(thislist)\n",
    "thislist.sort(key = str.lower)\n",
    "print(thislist)"
   ]
  },
  {
   "cell_type": "markdown",
   "metadata": {},
   "source": [
    "Podemos também facilmente encontar o **mínimo, máximo e soma** de uma lista de números:"
   ]
  },
  {
   "cell_type": "code",
   "execution_count": 51,
   "metadata": {},
   "outputs": [
    {
     "data": {
      "text/plain": [
       "0"
      ]
     },
     "execution_count": 51,
     "metadata": {},
     "output_type": "execute_result"
    }
   ],
   "source": [
    "num = [1, 2, 3, 4, 5, 6, 7, 8, 9, 0]\n",
    "min(num)\n"
   ]
  },
  {
   "cell_type": "code",
   "execution_count": 52,
   "metadata": {},
   "outputs": [
    {
     "data": {
      "text/plain": [
       "9"
      ]
     },
     "execution_count": 52,
     "metadata": {},
     "output_type": "execute_result"
    }
   ],
   "source": [
    "max(num)\n"
   ]
  },
  {
   "cell_type": "code",
   "execution_count": 53,
   "metadata": {},
   "outputs": [
    {
     "data": {
      "text/plain": [
       "45"
      ]
     },
     "execution_count": 53,
     "metadata": {},
     "output_type": "execute_result"
    }
   ],
   "source": [
    "sum(num)"
   ]
  },
  {
   "cell_type": "markdown",
   "metadata": {},
   "source": [
    "## Bibliografia\n",
    "Caleiro.C., Ramos.J.(2016). Notebook 01 - Conceitos básicos da linguagem Python  Dep. Matemática -IST.Lisboa:IST\n",
    "https://www.w3schools.com/python/default.asp  \n",
    "Vasconcelos, J. (2015).Python - Algoritmia e Programação Web. Lisboa:FCA\n",
    "Matthes. E.(2019). Python Crash Course - A Hands-On, Project-Based Introduction to Programming. San Francisco: USA  \n",
    "https://docs.python.org/pt-br/3/contents.html  \n",
    "https://kenzie.com.br/blog/dicionario-python/  \n",
    "https://pythonacademy.com.br/blog/dicts-ou-dicionarios-no-python#acessando-itens \n",
    "https://docs.python.org/pt-br/3/library/stdtypes.html#additional-methods-on-integer-types  \n",
    "https://docs.python.org/pt-br/3/library/stdtypes.html#string-methods\n",
    "https://www.w3schools.com/python/python_strings_methods.asp\n",
    "Carvalho. Adelaide. (2021). Práticas de Python - Algoritmia e programação. Lisboa: FCA"
   ]
  },
  {
   "cell_type": "markdown",
   "metadata": {},
   "source": [
    "<p ><img style=\"float:left\" src=\"logo-poch2.png\"></p> "
   ]
  }
 ],
 "metadata": {
  "anaconda-cloud": {},
  "kernelspec": {
   "display_name": "Python 3 (ipykernel)",
   "language": "python",
   "name": "python3"
  },
  "language_info": {
   "codemirror_mode": {
    "name": "ipython",
    "version": 3
   },
   "file_extension": ".py",
   "mimetype": "text/x-python",
   "name": "python",
   "nbconvert_exporter": "python",
   "pygments_lexer": "ipython3",
   "version": "3.9.7"
  },
  "vscode": {
   "interpreter": {
    "hash": "ad2bdc8ecc057115af97d19610ffacc2b4e99fae6737bb82f5d7fb13d2f2c186"
   }
  }
 },
 "nbformat": 4,
 "nbformat_minor": 1
}
